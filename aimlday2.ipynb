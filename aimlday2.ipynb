{
 "cells": [
  {
   "cell_type": "code",
   "execution_count": 1,
   "id": "524eaf15-ead5-4715-9502-821edfb3616c",
   "metadata": {},
   "outputs": [],
   "source": [
    "import numpy as np"
   ]
  },
  {
   "cell_type": "markdown",
   "id": "0f80fde3-f4a9-4cb7-a91c-98cd77007216",
   "metadata": {},
   "source": [
    "Random"
   ]
  },
  {
   "cell_type": "code",
   "execution_count": 1,
   "id": "65bca189-78df-4551-bf36-5caafc70a080",
   "metadata": {},
   "outputs": [],
   "source": [
    "from numpy import random as rd"
   ]
  },
  {
   "cell_type": "code",
   "execution_count": 30,
   "id": "5e2881f3-5cda-4cd3-a9b2-90c2ff262a30",
   "metadata": {},
   "outputs": [
    {
     "name": "stdout",
     "output_type": "stream",
     "text": [
      "1\n"
     ]
    }
   ],
   "source": [
    "r1=rd.randint(5)\n",
    "print(r1)"
   ]
  },
  {
   "cell_type": "code",
   "execution_count": 20,
   "id": "55ab56cf-cd76-479b-ada1-b271736601ee",
   "metadata": {},
   "outputs": [
    {
     "name": "stdout",
     "output_type": "stream",
     "text": [
      "[[37 12 72  9 75]\n",
      " [ 5 79 64 16  1]\n",
      " [76 71  6 25 50]\n",
      " [20 18 84 11 28]]\n"
     ]
    }
   ],
   "source": [
    "rd.seed(1)\n",
    "A=rd.randint(100, size=(4,5))\n",
    "print(A)"
   ]
  },
  {
   "cell_type": "code",
   "execution_count": 22,
   "id": "ea9685f0-d772-4496-9bcf-d3dbca9c7a8d",
   "metadata": {},
   "outputs": [
    {
     "name": "stdout",
     "output_type": "stream",
     "text": [
      "[[44 47 64 67 67]\n",
      " [ 9 83 21 36 87]\n",
      " [70 88 88 12 58]\n",
      " [65 39 87 46 88]]\n"
     ]
    }
   ],
   "source": [
    "rd.seed(0)\n",
    "B=rd.randint(100, size=(4,5))\n",
    "print(B)"
   ]
  },
  {
   "cell_type": "code",
   "execution_count": 52,
   "id": "ca1dc8cd-cae6-4328-9797-2e86331d2282",
   "metadata": {},
   "outputs": [
    {
     "data": {
      "text/plain": [
       "array([[37, 12, 72,  9, 75, 44, 47, 64, 67, 67],\n",
       "       [ 5, 79, 64, 16,  1,  9, 83, 21, 36, 87],\n",
       "       [76, 71,  6, 25, 50, 70, 88, 88, 12, 58],\n",
       "       [20, 18, 84, 11, 28, 65, 39, 87, 46, 88]])"
      ]
     },
     "execution_count": 52,
     "metadata": {},
     "output_type": "execute_result"
    }
   ],
   "source": [
    "import numpy as np\n",
    "D=np.hstack((A,B))\n",
    "D"
   ]
  },
  {
   "cell_type": "code",
   "execution_count": 48,
   "id": "09831d6d-a465-4ae0-8998-99326d6ea60f",
   "metadata": {},
   "outputs": [
    {
     "name": "stdout",
     "output_type": "stream",
     "text": [
      "[[37 12 72  9 75]\n",
      " [ 5 79 64 16  1]\n",
      " [76 71  6 25 50]\n",
      " [20 18 84 11 28]\n",
      " [44 47 64 67 67]\n",
      " [ 9 83 21 36 87]\n",
      " [70 88 88 12 58]\n",
      " [65 39 87 46 88]]\n"
     ]
    }
   ],
   "source": [
    "import numpy as np\n",
    "C=np.vstack((A,B))\n",
    "print(C)"
   ]
  },
  {
   "cell_type": "code",
   "execution_count": 46,
   "id": "f569bf78-65a0-4f39-89f7-afb529afd8e3",
   "metadata": {},
   "outputs": [
    {
     "data": {
      "text/plain": [
       "[array([[37, 12, 72,  9, 75],\n",
       "        [ 5, 79, 64, 16,  1],\n",
       "        [76, 71,  6, 25, 50],\n",
       "        [20, 18, 84, 11, 28]])]"
      ]
     },
     "execution_count": 46,
     "metadata": {},
     "output_type": "execute_result"
    }
   ],
   "source": [
    "np.hsplit(A,1)"
   ]
  },
  {
   "cell_type": "code",
   "execution_count": 50,
   "id": "22be6cf0-35ea-4137-aa91-fec858534f82",
   "metadata": {},
   "outputs": [
    {
     "data": {
      "text/plain": [
       "[array([[37, 12, 72,  9, 75],\n",
       "        [ 5, 79, 64, 16,  1]]),\n",
       " array([[76, 71,  6, 25, 50],\n",
       "        [20, 18, 84, 11, 28],\n",
       "        [44, 47, 64, 67, 67]]),\n",
       " array([[ 9, 83, 21, 36, 87],\n",
       "        [70, 88, 88, 12, 58],\n",
       "        [65, 39, 87, 46, 88]]),\n",
       " array([], shape=(0, 5), dtype=int32)]"
      ]
     },
     "execution_count": 50,
     "metadata": {},
     "output_type": "execute_result"
    }
   ],
   "source": [
    "np.vsplit(C,(2,5,9))"
   ]
  },
  {
   "cell_type": "code",
   "execution_count": 54,
   "id": "4e36b562-8706-408b-8cde-1a4b8e9a2a98",
   "metadata": {},
   "outputs": [
    {
     "data": {
      "text/plain": [
       "[array([[37, 12, 72],\n",
       "        [ 5, 79, 64],\n",
       "        [76, 71,  6],\n",
       "        [20, 18, 84]]),\n",
       " array([[ 9, 75],\n",
       "        [16,  1],\n",
       "        [25, 50],\n",
       "        [11, 28]]),\n",
       " array([[44, 47, 64, 67],\n",
       "        [ 9, 83, 21, 36],\n",
       "        [70, 88, 88, 12],\n",
       "        [65, 39, 87, 46]]),\n",
       " array([[67],\n",
       "        [87],\n",
       "        [58],\n",
       "        [88]])]"
      ]
     },
     "execution_count": 54,
     "metadata": {},
     "output_type": "execute_result"
    }
   ],
   "source": [
    "np.hsplit(D,(3,5,9))"
   ]
  },
  {
   "cell_type": "code",
   "execution_count": 62,
   "id": "2ab38396-77bf-4095-8046-f7fe01e39ff8",
   "metadata": {},
   "outputs": [
    {
     "name": "stdout",
     "output_type": "stream",
     "text": [
      "[[24  3 56]\n",
      " [72  0 21]\n",
      " [19 74 41]\n",
      " [10 21 38]\n",
      " [96 20 44]\n",
      " [93 39 14]\n",
      " [26 81 90]\n",
      " [22 66  2]\n",
      " [63 60  1]]\n"
     ]
    }
   ],
   "source": [
    "rd.seed(3)\n",
    "E=rd.randint(100, size=(9,3))\n",
    "print(E)"
   ]
  },
  {
   "cell_type": "code",
   "execution_count": 64,
   "id": "5c92338f-83ff-4bd6-8044-fc0963b1030c",
   "metadata": {},
   "outputs": [
    {
     "data": {
      "text/plain": [
       "[array([[24,  3, 56],\n",
       "        [72,  0, 21],\n",
       "        [19, 74, 41]]),\n",
       " array([[10, 21, 38],\n",
       "        [96, 20, 44],\n",
       "        [93, 39, 14]]),\n",
       " array([[26, 81, 90],\n",
       "        [22, 66,  2],\n",
       "        [63, 60,  1]])]"
      ]
     },
     "execution_count": 64,
     "metadata": {},
     "output_type": "execute_result"
    }
   ],
   "source": [
    "np.vsplit(E,3)"
   ]
  },
  {
   "cell_type": "code",
   "execution_count": 66,
   "id": "fcec430a-8940-4e91-99ab-e6a69e149c49",
   "metadata": {},
   "outputs": [
    {
     "data": {
      "text/plain": [
       "[array([[24,  3, 56],\n",
       "        [72,  0, 21]]),\n",
       " array([[19, 74, 41]]),\n",
       " array([[10, 21, 38],\n",
       "        [96, 20, 44],\n",
       "        [93, 39, 14],\n",
       "        [26, 81, 90],\n",
       "        [22, 66,  2],\n",
       "        [63, 60,  1]])]"
      ]
     },
     "execution_count": 66,
     "metadata": {},
     "output_type": "execute_result"
    }
   ],
   "source": [
    "np.vsplit(E,(2,3))"
   ]
  },
  {
   "cell_type": "code",
   "execution_count": 6,
   "id": "8cefdf69-4fd9-4ef3-bf0d-0c0c6e5a6e37",
   "metadata": {},
   "outputs": [
    {
     "data": {
      "text/plain": [
       "array([1., 4., 7.])"
      ]
     },
     "execution_count": 6,
     "metadata": {},
     "output_type": "execute_result"
    }
   ],
   "source": [
    "import numpy as np\n",
    "np.linspace(1,7,3)"
   ]
  },
  {
   "cell_type": "code",
   "execution_count": 14,
   "id": "b08a21d6-fa2b-4626-8e45-7241963c5406",
   "metadata": {},
   "outputs": [
    {
     "data": {
      "text/plain": [
       "array([29, 29, 30, 45, 67])"
      ]
     },
     "execution_count": 14,
     "metadata": {},
     "output_type": "execute_result"
    }
   ],
   "source": [
    "S=np.array([30,29,45,29,67])\n",
    "np.sort(S)"
   ]
  },
  {
   "cell_type": "code",
   "execution_count": 16,
   "id": "a809e437-4235-428b-9c23-864fa8ca4788",
   "metadata": {},
   "outputs": [
    {
     "data": {
      "text/plain": [
       "(array([1, 2, 3, 4], dtype=int64),)"
      ]
     },
     "execution_count": 16,
     "metadata": {},
     "output_type": "execute_result"
    }
   ],
   "source": [
    "np.where(S%2==1)\n"
   ]
  },
  {
   "cell_type": "code",
   "execution_count": 18,
   "id": "a3324e6d-bb13-4ca9-a469-1b10b54ff5ac",
   "metadata": {},
   "outputs": [
    {
     "data": {
      "text/plain": [
       "(array([1, 2, 3, 4], dtype=int64),)"
      ]
     },
     "execution_count": 18,
     "metadata": {},
     "output_type": "execute_result"
    }
   ],
   "source": [
    "np.where(S%2==1)"
   ]
  },
  {
   "cell_type": "code",
   "execution_count": 22,
   "id": "3c6cfeed-674b-4d93-b8c5-7ddb09b19de2",
   "metadata": {},
   "outputs": [
    {
     "data": {
      "text/plain": [
       "array([      30,      870,    39150,  1135350, 76068450])"
      ]
     },
     "execution_count": 22,
     "metadata": {},
     "output_type": "execute_result"
    }
   ],
   "source": [
    "np.cumprod(S) #cumulative product"
   ]
  },
  {
   "cell_type": "code",
   "execution_count": 24,
   "id": "9fbeb7c3-35f6-47fc-b8a3-60b31342fe5c",
   "metadata": {},
   "outputs": [
    {
     "name": "stdout",
     "output_type": "stream",
     "text": [
      "[30 29 45 29 67]\n",
      "[ 30  59 104 133 200]\n"
     ]
    }
   ],
   "source": [
    "print(S)\n",
    "print(np.cumsum(S))"
   ]
  },
  {
   "cell_type": "code",
   "execution_count": 26,
   "id": "93d16a93-6093-4a13-ba9c-29e8070b9566",
   "metadata": {},
   "outputs": [
    {
     "data": {
      "text/plain": [
       "array([[9, 0, 7, 1],\n",
       "       [7, 8, 9, 0],\n",
       "       [5, 6, 7, 8]])"
      ]
     },
     "execution_count": 26,
     "metadata": {},
     "output_type": "execute_result"
    }
   ],
   "source": [
    "ar10=np.array([[9,0,7,1],[7,8,9,0],[5,6,7,8]])\n",
    "ar10"
   ]
  },
  {
   "cell_type": "code",
   "execution_count": 28,
   "id": "14accfe4-ea21-4653-a103-27548f649c40",
   "metadata": {},
   "outputs": [
    {
     "data": {
      "text/plain": [
       "array([[ 9,  0,  7,  1],\n",
       "       [16,  8, 16,  1],\n",
       "       [21, 14, 23,  9]])"
      ]
     },
     "execution_count": 28,
     "metadata": {},
     "output_type": "execute_result"
    }
   ],
   "source": [
    "np.cumsum(ar10,axis=0) #column addition"
   ]
  },
  {
   "cell_type": "code",
   "execution_count": 30,
   "id": "93d81f69-61e6-49c7-b2b4-11efe5cd8f80",
   "metadata": {},
   "outputs": [
    {
     "data": {
      "text/plain": [
       "array([[ 9,  9, 16, 17],\n",
       "       [ 7, 15, 24, 24],\n",
       "       [ 5, 11, 18, 26]])"
      ]
     },
     "execution_count": 30,
     "metadata": {},
     "output_type": "execute_result"
    }
   ],
   "source": [
    "np.cumsum(ar10,axis=1) #row addition"
   ]
  },
  {
   "cell_type": "code",
   "execution_count": 32,
   "id": "1ce8b20a-82bf-4527-a956-4593a6711491",
   "metadata": {},
   "outputs": [
    {
     "data": {
      "text/plain": [
       "array([[  9,   0,   7,   1],\n",
       "       [ 63,   0,  63,   0],\n",
       "       [315,   0, 441,   0]])"
      ]
     },
     "execution_count": 32,
     "metadata": {},
     "output_type": "execute_result"
    }
   ],
   "source": [
    "np.cumprod(ar10,axis=0)"
   ]
  },
  {
   "cell_type": "code",
   "execution_count": 34,
   "id": "38f9a771-1e64-4f2a-8faa-0bae11c6397c",
   "metadata": {},
   "outputs": [
    {
     "data": {
      "text/plain": [
       "array([[   9,    0,    0,    0],\n",
       "       [   7,   56,  504,    0],\n",
       "       [   5,   30,  210, 1680]])"
      ]
     },
     "execution_count": 34,
     "metadata": {},
     "output_type": "execute_result"
    }
   ],
   "source": [
    "np.cumprod(ar10,axis=1)"
   ]
  },
  {
   "cell_type": "markdown",
   "id": "37a5fea3-6b12-442c-a576-e3c6fdf0d6ea",
   "metadata": {},
   "source": [
    "Matplotlib\n"
   ]
  },
  {
   "cell_type": "code",
   "execution_count": 37,
   "id": "5956603c-2055-44e4-b51e-ce7af58583b6",
   "metadata": {},
   "outputs": [],
   "source": [
    "from matplotlib import pyplot as plt"
   ]
  },
  {
   "cell_type": "code",
   "execution_count": 39,
   "id": "132e6eac-9d32-45d4-bbf9-d8d744d286bd",
   "metadata": {},
   "outputs": [
    {
     "data": {
      "text/plain": [
       "[<matplotlib.lines.Line2D at 0x1c92560d290>]"
      ]
     },
     "execution_count": 39,
     "metadata": {},
     "output_type": "execute_result"
    },
    {
     "data": {
      "image/png": "[encoded data removed]",
      "text/plain": [
       "<Figure size 640x480 with 1 Axes>"
      ]
     },
     "metadata": {},
     "output_type": "display_data"
    }
   ],
   "source": [
    "x=[1,2,3,4]\n",
    "y=[23,49,57,12]\n",
    "plt.plot(x,y)"
   ]
  },
  {
   "cell_type": "code",
   "execution_count": 61,
   "id": "cac6de6c-1d08-4977-aa4a-97773d1c6311",
   "metadata": {},
   "outputs": [
    {
     "data": {
      "text/plain": [
       "Text(0, 0.5, 'marks')"
      ]
     },
     "execution_count": 61,
     "metadata": {},
     "output_type": "execute_result"
    },
    {
     "data": {
      "image/png": "[encoded data removed]",
      "text/plain": [
       "<Figure size 640x480 with 1 Axes>"
      ]
     },
     "metadata": {},
     "output_type": "display_data"
    }
   ],
   "source": [
    "sub=[\"Maths\",\"Science\",\"English\",\"History\",\"geography\"]\n",
    "stu1=[100,100,89,90,98]\n",
    "stu2=[99,80,70,92,90]\n",
    "plt.plot(sub,stu1, color='blue' ,linestyle=\"--\",linewidth=2,marker=\"*\",label=\"spandana\")\n",
    "plt.plot(sub,stu2, color='black' ,linestyle=\"-\",linewidth=2,marker=\".\",label=\"sneha\")\n",
    "plt.legend()\n",
    "plt.title(\"spandna vs sneha\")\n",
    "plt.xlabel(\"subject\")\n",
    "plt.ylabel(\"marks\")\n",
    "\n"
   ]
  },
  {
   "cell_type": "code",
   "execution_count": 77,
   "id": "f5810ace-e675-446b-96d3-3e8b05aafe65",
   "metadata": {},
   "outputs": [
    {
     "data": {
      "text/plain": [
       "Text(0, 0.5, 'marks')"
      ]
     },
     "execution_count": 77,
     "metadata": {},
     "output_type": "execute_result"
    },
    {
     "data": {
      "image/png": "[encoded data removed]",
      "text/plain": [
       "<Figure size 640x480 with 1 Axes>"
      ]
     },
     "metadata": {},
     "output_type": "display_data"
    }
   ],
   "source": [
    "sub=[\"Maths\",\"Science\",\"English\",\"History\",\"geography\"]\n",
    "stu1=[100,100,89,90,98]\n",
    "stu2=[99,80,89,92,90]\n",
    "plt.bar(sub,stu1, color='skyblue' ,linestyle=\"--\",linewidth=2,label=\"spandana\")\n",
    "plt.bar(sub,stu2, color='orange' ,linestyle=\"-\",linewidth=2,label=\"sneha\")\n",
    "plt.legend()\n",
    "plt.title(\"spandna vs sneha\")\n",
    "plt.xlabel(\"subject\")\n",
    "plt.ylabel(\"marks\")"
   ]
  },
  {
   "cell_type": "code",
   "execution_count": 79,
   "id": "4d99db28-b97e-46d9-8da4-fc8252613bae",
   "metadata": {},
   "outputs": [
    {
     "data": {
      "text/plain": [
       "([<matplotlib.patches.Wedge at 0x1c9260cfe90>,\n",
       "  <matplotlib.patches.Wedge at 0x1c92ba8d9d0>,\n",
       "  <matplotlib.patches.Wedge at 0x1c92b886c10>,\n",
       "  <matplotlib.patches.Wedge at 0x1c92b887c90>],\n",
       " [Text(0.6795752347412215, 0.8649725431055103, 's'),\n",
       "  Text(-1.042295275625534, 0.35159715358445714, 'u'),\n",
       "  Text(-0.12831934565283548, -1.0924898834914802, 'b'),\n",
       "  Text(0.9868689563727104, -0.48589058742461516, 'j')])"
      ]
     },
     "execution_count": 79,
     "metadata": {},
     "output_type": "execute_result"
    },
    {
     "data": {
      "image/png": "[encoded data removed]",
      "text/plain": [
       "<Figure size 640x480 with 1 Axes>"
      ]
     },
     "metadata": {},
     "output_type": "display_data"
    }
   ],
   "source": [
    "subj=[\"python\",\"AIML\",\"java\",\"Numpy\"]\n",
    "val=[89,99,76,45]\n",
    "plt.pie(val,labels=\"subj\")"
   ]
  },
  {
   "cell_type": "code",
   "execution_count": 85,
   "id": "2dec52b6-766e-4bf8-9b52-56193e661821",
   "metadata": {},
   "outputs": [
    {
     "data": {
      "text/plain": [
       "([<matplotlib.patches.Wedge at 0x1c92b932d50>,\n",
       "  <matplotlib.patches.Wedge at 0x1c92b933650>,\n",
       "  <matplotlib.patches.Wedge at 0x1c92b9401d0>,\n",
       "  <matplotlib.patches.Wedge at 0x1c92b940ed0>],\n",
       " [Text(0.6895318193732523, 0.8570565150979326, 's'),\n",
       "  Text(-1.028968944738186, 0.38887390085268536, 'u'),\n",
       "  Text(-0.29706871901919607, -1.6738429365326648, 'b'),\n",
       "  Text(0.9696250451238428, -0.5194490079580342, 'j')])"
      ]
     },
     "execution_count": 85,
     "metadata": {},
     "output_type": "execute_result"
    },
    {
     "data": {
      "image/png": "[encoded data removed]",
      "text/plain": [
       "<Figure size 640x480 with 1 Axes>"
      ]
     },
     "metadata": {},
     "output_type": "display_data"
    }
   ],
   "source": [
    "subj=[\"python\",\"AIML\",\"java\",\"Numpy\"]\n",
    "val=[89,99,76,49]\n",
    "ex=[0,0,0.6,0]\n",
    "plt.pie(val,labels=\"subj\",explode=ex)"
   ]
  },
  {
   "cell_type": "code",
   "execution_count": 87,
   "id": "11265298-0ed8-42cf-be8b-21be2171bcd4",
   "metadata": {},
   "outputs": [
    {
     "data": {
      "text/plain": [
       "([<matplotlib.patches.Wedge at 0x1c92bac2610>,\n",
       "  <matplotlib.patches.Wedge at 0x1c92bab1b90>,\n",
       "  <matplotlib.patches.Wedge at 0x1c92bac3e90>,\n",
       "  <matplotlib.patches.Wedge at 0x1c92bad0cd0>],\n",
       " [Text(-0.6795752347412213, -0.8649725431055104, 's'),\n",
       "  Text(1.0422952756255341, -0.3515971535844568, 'u'),\n",
       "  Text(0.1283193456528356, 1.0924898834914802, 'b'),\n",
       "  Text(-0.9868689563727099, 0.4858905874246162, 'j')])"
      ]
     },
     "execution_count": 87,
     "metadata": {},
     "output_type": "execute_result"
    },
    {
     "data": {
      "image/png": "[encoded data removed]",
      "text/plain": [
       "<Figure size 640x480 with 1 Axes>"
      ]
     },
     "metadata": {},
     "output_type": "display_data"
    }
   ],
   "source": [
    "subj=[\"python\",\"AIML\",\"java\",\"Numpy\"]\n",
    "val=[89,99,76,45]\n",
    "plt.pie(val,labels=\"subj\",startangle=180)"
   ]
  },
  {
   "cell_type": "code",
   "execution_count": 89,
   "id": "a20d9b30-96d5-4c35-b5f8-fed374b9d352",
   "metadata": {},
   "outputs": [
    {
     "data": {
      "text/plain": [
       "<matplotlib.collections.PathCollection at 0x1c92b950e10>"
      ]
     },
     "execution_count": 89,
     "metadata": {},
     "output_type": "execute_result"
    },
    {
     "data": {
      "image/png": "[encoded data removed]",
      "text/plain": [
       "<Figure size 640x480 with 1 Axes>"
      ]
     },
     "metadata": {},
     "output_type": "display_data"
    }
   ],
   "source": [
    "x=[1,2,3,4]\n",
    "y=[23,49,57,12]\n",
    "plt.scatter(x,y)"
   ]
  },
  {
   "cell_type": "markdown",
   "id": "c7f1031f-90f9-4669-b7dc-5ccd5336c7ba",
   "metadata": {},
   "source": [
    "The scores b/w india and australia in cricket match for every 5 overs are given india is comp bating all 50 overs while aut compl 25 overs,create a line plot with proper title x and y over\n",
    "run_india=[25,51,84,131,160,189,220,250,267,287]\n",
    "run_aust=[15,41,94,110,151]"
   ]
  },
  {
   "cell_type": "code",
   "execution_count": 105,
   "id": "6302a836-2458-4242-8d7c-558bf4e22a34",
   "metadata": {},
   "outputs": [
    {
     "data": {
      "text/plain": [
       "Text(0, 0.5, 'runs')"
      ]
     },
     "execution_count": 105,
     "metadata": {},
     "output_type": "execute_result"
    },
    {
     "data": {
      "image/png": "[encoded data removed]",
      "text/plain": [
       "<Figure size 640x480 with 1 Axes>"
      ]
     },
     "metadata": {},
     "output_type": "display_data"
    }
   ],
   "source": [
    "over1=[5,10,15,20,25,30,35,40,45,50]\n",
    "over2=[2,10,15,20,25]\n",
    "run_india=[25,51,84,131,160,189,220,250,267,287]\n",
    "run_aust=[15,41,94,110,151]\n",
    "plt.plot(over1,run_india, color='blue' ,linestyle=\"--\",linewidth=2,marker=\"*\",label=\"run_india\")\n",
    "plt.plot(over2,run_aust, color='black' ,linestyle=\"-\",linewidth=2,marker=\".\",label=\"run_aust\")\n",
    "plt.legend()\n",
    "plt.title(\"India vs australia\")\n",
    "plt.xlabel(\"overs\")\n",
    "plt.ylabel(\"runs\")\n",
    "\n"
   ]
  },
  {
   "cell_type": "markdown",
   "id": "6503c9a6-5056-4391-9ca0-d1b81e2cb621",
   "metadata": {},
   "source": [
    "pandas"
   ]
  },
  {
   "cell_type": "code",
   "execution_count": 2,
   "id": "f961eefd-eba7-4752-8d65-c29750c449f7",
   "metadata": {},
   "outputs": [],
   "source": [
    "import pandas as pd"
   ]
  },
  {
   "cell_type": "code",
   "execution_count": 6,
   "id": "25c12c6f-0d55-4045-bfd8-1fe06cdc6ed9",
   "metadata": {},
   "outputs": [],
   "source": [
    "val=[\"jwalitha\",\"spandana\",\"suma\",\"sneha\"]\n",
    "ind=[67,72,89,90]\n",
    "s=pd.Series(val,index=ind)"
   ]
  },
  {
   "cell_type": "code",
   "execution_count": 8,
   "id": "f3546b2e-daf3-4b54-b657-98f7db681bde",
   "metadata": {},
   "outputs": [
    {
     "data": {
      "text/plain": [
       "67    jwalitha\n",
       "72    spandana\n",
       "89        suma\n",
       "90       sneha\n",
       "dtype: object"
      ]
     },
     "execution_count": 8,
     "metadata": {},
     "output_type": "execute_result"
    }
   ],
   "source": [
    "s"
   ]
  },
  {
   "cell_type": "code",
   "execution_count": 12,
   "id": "f58e2852-988f-4b19-87c3-4a7abd929d66",
   "metadata": {},
   "outputs": [],
   "source": [
    "mydef=pd.DataFrame(columns=[\"Name\",\"marks\",\"grade\"])"
   ]
  },
  {
   "cell_type": "code",
   "execution_count": 14,
   "id": "2d1a7d38-fb72-4c30-8d11-6f4c3d78c3a2",
   "metadata": {},
   "outputs": [
    {
     "data": {
      "text/html": [
       "<div>\n",
       "<style scoped>\n",
       "    .dataframe tbody tr th:only-of-type {\n",
       "        vertical-align: middle;\n",
       "    }\n",
       "\n",
       "    .dataframe tbody tr th {\n",
       "        vertical-align: top;\n",
       "    }\n",
       "\n",
       "    .dataframe thead th {\n",
       "        text-align: right;\n",
       "    }\n",
       "</style>\n",
       "<table border=\"1\" class=\"dataframe\">\n",
       "  <thead>\n",
       "    <tr style=\"text-align: right;\">\n",
       "      <th></th>\n",
       "      <th>Name</th>\n",
       "      <th>marks</th>\n",
       "      <th>grade</th>\n",
       "    </tr>\n",
       "  </thead>\n",
       "  <tbody>\n",
       "  </tbody>\n",
       "</table>\n",
       "</div>"
      ],
      "text/plain": [
       "Empty DataFrame\n",
       "Columns: [Name, marks, grade]\n",
       "Index: []"
      ]
     },
     "execution_count": 14,
     "metadata": {},
     "output_type": "execute_result"
    }
   ],
   "source": [
    "mydef"
   ]
  },
  {
   "cell_type": "code",
   "execution_count": 16,
   "id": "c91da039-2fd6-45c0-8303-136610138a50",
   "metadata": {},
   "outputs": [],
   "source": [
    "N=['xyz','abc','sneha','sumed','ram']\n",
    "M=[50,70,70,89,56]\n",
    "G=['b','b+','c','a','c']"
   ]
  },
  {
   "cell_type": "code",
   "execution_count": 18,
   "id": "d2b1ed66-09c0-4a2d-9258-710ac97f3170",
   "metadata": {},
   "outputs": [
    {
     "data": {
      "text/html": [
       "<div>\n",
       "<style scoped>\n",
       "    .dataframe tbody tr th:only-of-type {\n",
       "        vertical-align: middle;\n",
       "    }\n",
       "\n",
       "    .dataframe tbody tr th {\n",
       "        vertical-align: top;\n",
       "    }\n",
       "\n",
       "    .dataframe thead th {\n",
       "        text-align: right;\n",
       "    }\n",
       "</style>\n",
       "<table border=\"1\" class=\"dataframe\">\n",
       "  <thead>\n",
       "    <tr style=\"text-align: right;\">\n",
       "      <th></th>\n",
       "      <th>Name</th>\n",
       "      <th>marks</th>\n",
       "      <th>grade</th>\n",
       "    </tr>\n",
       "  </thead>\n",
       "  <tbody>\n",
       "    <tr>\n",
       "      <th>0</th>\n",
       "      <td>xyz</td>\n",
       "      <td>50</td>\n",
       "      <td>b</td>\n",
       "    </tr>\n",
       "    <tr>\n",
       "      <th>1</th>\n",
       "      <td>abc</td>\n",
       "      <td>70</td>\n",
       "      <td>b+</td>\n",
       "    </tr>\n",
       "    <tr>\n",
       "      <th>2</th>\n",
       "      <td>sneha</td>\n",
       "      <td>70</td>\n",
       "      <td>c</td>\n",
       "    </tr>\n",
       "    <tr>\n",
       "      <th>3</th>\n",
       "      <td>sumed</td>\n",
       "      <td>89</td>\n",
       "      <td>a</td>\n",
       "    </tr>\n",
       "    <tr>\n",
       "      <th>4</th>\n",
       "      <td>ram</td>\n",
       "      <td>56</td>\n",
       "      <td>c</td>\n",
       "    </tr>\n",
       "  </tbody>\n",
       "</table>\n",
       "</div>"
      ],
      "text/plain": [
       "    Name  marks grade\n",
       "0    xyz     50     b\n",
       "1    abc     70    b+\n",
       "2  sneha     70     c\n",
       "3  sumed     89     a\n",
       "4    ram     56     c"
      ]
     },
     "execution_count": 18,
     "metadata": {},
     "output_type": "execute_result"
    }
   ],
   "source": [
    "mydef[\"Name\"]=N\n",
    "mydef[\"marks\"]=M\n",
    "mydef[\"grade\"]=G\n",
    "mydef"
   ]
  },
  {
   "cell_type": "code",
   "execution_count": 24,
   "id": "cf74aca6-97a5-407a-88b7-656ff317d881",
   "metadata": {},
   "outputs": [],
   "source": [
    "dfcsv=pd.read_csv(r\"C:\\Users\\HP\\Documents\\diabetcsv.csv\")"
   ]
  },
  {
   "cell_type": "code",
   "execution_count": 26,
   "id": "14266780-e8e1-49ec-af63-08b275a2ed72",
   "metadata": {},
   "outputs": [
    {
     "data": {
      "text/html": [
       "<div>\n",
       "<style scoped>\n",
       "    .dataframe tbody tr th:only-of-type {\n",
       "        vertical-align: middle;\n",
       "    }\n",
       "\n",
       "    .dataframe tbody tr th {\n",
       "        vertical-align: top;\n",
       "    }\n",
       "\n",
       "    .dataframe thead th {\n",
       "        text-align: right;\n",
       "    }\n",
       "</style>\n",
       "<table border=\"1\" class=\"dataframe\">\n",
       "  <thead>\n",
       "    <tr style=\"text-align: right;\">\n",
       "      <th></th>\n",
       "      <th>preg</th>\n",
       "      <th>plas</th>\n",
       "      <th>pres</th>\n",
       "      <th>skin</th>\n",
       "      <th>insu</th>\n",
       "      <th>mass</th>\n",
       "      <th>pedi</th>\n",
       "      <th>age</th>\n",
       "      <th>class</th>\n",
       "    </tr>\n",
       "  </thead>\n",
       "  <tbody>\n",
       "    <tr>\n",
       "      <th>0</th>\n",
       "      <td>6</td>\n",
       "      <td>148</td>\n",
       "      <td>72</td>\n",
       "      <td>35</td>\n",
       "      <td>0</td>\n",
       "      <td>33.6</td>\n",
       "      <td>0.627</td>\n",
       "      <td>50</td>\n",
       "      <td>tested_positive</td>\n",
       "    </tr>\n",
       "    <tr>\n",
       "      <th>1</th>\n",
       "      <td>1</td>\n",
       "      <td>85</td>\n",
       "      <td>66</td>\n",
       "      <td>29</td>\n",
       "      <td>0</td>\n",
       "      <td>26.6</td>\n",
       "      <td>0.351</td>\n",
       "      <td>31</td>\n",
       "      <td>tested_negative</td>\n",
       "    </tr>\n",
       "    <tr>\n",
       "      <th>2</th>\n",
       "      <td>8</td>\n",
       "      <td>183</td>\n",
       "      <td>64</td>\n",
       "      <td>0</td>\n",
       "      <td>0</td>\n",
       "      <td>23.3</td>\n",
       "      <td>0.672</td>\n",
       "      <td>32</td>\n",
       "      <td>tested_positive</td>\n",
       "    </tr>\n",
       "    <tr>\n",
       "      <th>3</th>\n",
       "      <td>1</td>\n",
       "      <td>89</td>\n",
       "      <td>66</td>\n",
       "      <td>23</td>\n",
       "      <td>94</td>\n",
       "      <td>28.1</td>\n",
       "      <td>0.167</td>\n",
       "      <td>21</td>\n",
       "      <td>tested_negative</td>\n",
       "    </tr>\n",
       "    <tr>\n",
       "      <th>4</th>\n",
       "      <td>0</td>\n",
       "      <td>137</td>\n",
       "      <td>40</td>\n",
       "      <td>35</td>\n",
       "      <td>168</td>\n",
       "      <td>43.1</td>\n",
       "      <td>2.288</td>\n",
       "      <td>33</td>\n",
       "      <td>tested_positive</td>\n",
       "    </tr>\n",
       "    <tr>\n",
       "      <th>...</th>\n",
       "      <td>...</td>\n",
       "      <td>...</td>\n",
       "      <td>...</td>\n",
       "      <td>...</td>\n",
       "      <td>...</td>\n",
       "      <td>...</td>\n",
       "      <td>...</td>\n",
       "      <td>...</td>\n",
       "      <td>...</td>\n",
       "    </tr>\n",
       "    <tr>\n",
       "      <th>763</th>\n",
       "      <td>10</td>\n",
       "      <td>101</td>\n",
       "      <td>76</td>\n",
       "      <td>48</td>\n",
       "      <td>180</td>\n",
       "      <td>32.9</td>\n",
       "      <td>0.171</td>\n",
       "      <td>63</td>\n",
       "      <td>tested_negative</td>\n",
       "    </tr>\n",
       "    <tr>\n",
       "      <th>764</th>\n",
       "      <td>2</td>\n",
       "      <td>122</td>\n",
       "      <td>70</td>\n",
       "      <td>27</td>\n",
       "      <td>0</td>\n",
       "      <td>36.8</td>\n",
       "      <td>0.340</td>\n",
       "      <td>27</td>\n",
       "      <td>tested_negative</td>\n",
       "    </tr>\n",
       "    <tr>\n",
       "      <th>765</th>\n",
       "      <td>5</td>\n",
       "      <td>121</td>\n",
       "      <td>72</td>\n",
       "      <td>23</td>\n",
       "      <td>112</td>\n",
       "      <td>26.2</td>\n",
       "      <td>0.245</td>\n",
       "      <td>30</td>\n",
       "      <td>tested_negative</td>\n",
       "    </tr>\n",
       "    <tr>\n",
       "      <th>766</th>\n",
       "      <td>1</td>\n",
       "      <td>126</td>\n",
       "      <td>60</td>\n",
       "      <td>0</td>\n",
       "      <td>0</td>\n",
       "      <td>30.1</td>\n",
       "      <td>0.349</td>\n",
       "      <td>47</td>\n",
       "      <td>tested_positive</td>\n",
       "    </tr>\n",
       "    <tr>\n",
       "      <th>767</th>\n",
       "      <td>1</td>\n",
       "      <td>93</td>\n",
       "      <td>70</td>\n",
       "      <td>31</td>\n",
       "      <td>0</td>\n",
       "      <td>30.4</td>\n",
       "      <td>0.315</td>\n",
       "      <td>23</td>\n",
       "      <td>tested_negative</td>\n",
       "    </tr>\n",
       "  </tbody>\n",
       "</table>\n",
       "<p>768 rows × 9 columns</p>\n",
       "</div>"
      ],
      "text/plain": [
       "     preg  plas  pres  skin  insu  mass   pedi  age            class\n",
       "0       6   148    72    35     0  33.6  0.627   50  tested_positive\n",
       "1       1    85    66    29     0  26.6  0.351   31  tested_negative\n",
       "2       8   183    64     0     0  23.3  0.672   32  tested_positive\n",
       "3       1    89    66    23    94  28.1  0.167   21  tested_negative\n",
       "4       0   137    40    35   168  43.1  2.288   33  tested_positive\n",
       "..    ...   ...   ...   ...   ...   ...    ...  ...              ...\n",
       "763    10   101    76    48   180  32.9  0.171   63  tested_negative\n",
       "764     2   122    70    27     0  36.8  0.340   27  tested_negative\n",
       "765     5   121    72    23   112  26.2  0.245   30  tested_negative\n",
       "766     1   126    60     0     0  30.1  0.349   47  tested_positive\n",
       "767     1    93    70    31     0  30.4  0.315   23  tested_negative\n",
       "\n",
       "[768 rows x 9 columns]"
      ]
     },
     "execution_count": 26,
     "metadata": {},
     "output_type": "execute_result"
    }
   ],
   "source": [
    "dfcsv"
   ]
  },
  {
   "cell_type": "code",
   "execution_count": 28,
   "id": "c596575a-e63d-457f-948a-4a0c87a7f042",
   "metadata": {},
   "outputs": [],
   "source": [
    "dfex=pd.read_excel(r\"C:\\Users\\HP\\Documents\\diabetes.xlsx\")"
   ]
  },
  {
   "cell_type": "code",
   "execution_count": 30,
   "id": "d21a4b5d-1e16-441d-a64b-12d0d1cb4cbe",
   "metadata": {},
   "outputs": [
    {
     "data": {
      "text/html": [
       "<div>\n",
       "<style scoped>\n",
       "    .dataframe tbody tr th:only-of-type {\n",
       "        vertical-align: middle;\n",
       "    }\n",
       "\n",
       "    .dataframe tbody tr th {\n",
       "        vertical-align: top;\n",
       "    }\n",
       "\n",
       "    .dataframe thead th {\n",
       "        text-align: right;\n",
       "    }\n",
       "</style>\n",
       "<table border=\"1\" class=\"dataframe\">\n",
       "  <thead>\n",
       "    <tr style=\"text-align: right;\">\n",
       "      <th></th>\n",
       "      <th>preg</th>\n",
       "      <th>plas</th>\n",
       "      <th>pres</th>\n",
       "      <th>skin</th>\n",
       "      <th>insu</th>\n",
       "      <th>mass</th>\n",
       "      <th>pedi</th>\n",
       "      <th>age</th>\n",
       "      <th>class</th>\n",
       "    </tr>\n",
       "  </thead>\n",
       "  <tbody>\n",
       "    <tr>\n",
       "      <th>0</th>\n",
       "      <td>6</td>\n",
       "      <td>148</td>\n",
       "      <td>72</td>\n",
       "      <td>35</td>\n",
       "      <td>0</td>\n",
       "      <td>33.6</td>\n",
       "      <td>0.627</td>\n",
       "      <td>50</td>\n",
       "      <td>tested_positive</td>\n",
       "    </tr>\n",
       "    <tr>\n",
       "      <th>1</th>\n",
       "      <td>1</td>\n",
       "      <td>85</td>\n",
       "      <td>66</td>\n",
       "      <td>29</td>\n",
       "      <td>0</td>\n",
       "      <td>26.6</td>\n",
       "      <td>0.351</td>\n",
       "      <td>31</td>\n",
       "      <td>tested_negative</td>\n",
       "    </tr>\n",
       "    <tr>\n",
       "      <th>2</th>\n",
       "      <td>8</td>\n",
       "      <td>183</td>\n",
       "      <td>64</td>\n",
       "      <td>0</td>\n",
       "      <td>0</td>\n",
       "      <td>23.3</td>\n",
       "      <td>0.672</td>\n",
       "      <td>32</td>\n",
       "      <td>tested_positive</td>\n",
       "    </tr>\n",
       "    <tr>\n",
       "      <th>3</th>\n",
       "      <td>1</td>\n",
       "      <td>89</td>\n",
       "      <td>66</td>\n",
       "      <td>23</td>\n",
       "      <td>94</td>\n",
       "      <td>28.1</td>\n",
       "      <td>0.167</td>\n",
       "      <td>21</td>\n",
       "      <td>tested_negative</td>\n",
       "    </tr>\n",
       "    <tr>\n",
       "      <th>4</th>\n",
       "      <td>0</td>\n",
       "      <td>137</td>\n",
       "      <td>40</td>\n",
       "      <td>35</td>\n",
       "      <td>168</td>\n",
       "      <td>43.1</td>\n",
       "      <td>2.288</td>\n",
       "      <td>33</td>\n",
       "      <td>tested_positive</td>\n",
       "    </tr>\n",
       "    <tr>\n",
       "      <th>...</th>\n",
       "      <td>...</td>\n",
       "      <td>...</td>\n",
       "      <td>...</td>\n",
       "      <td>...</td>\n",
       "      <td>...</td>\n",
       "      <td>...</td>\n",
       "      <td>...</td>\n",
       "      <td>...</td>\n",
       "      <td>...</td>\n",
       "    </tr>\n",
       "    <tr>\n",
       "      <th>763</th>\n",
       "      <td>10</td>\n",
       "      <td>101</td>\n",
       "      <td>76</td>\n",
       "      <td>48</td>\n",
       "      <td>180</td>\n",
       "      <td>32.9</td>\n",
       "      <td>0.171</td>\n",
       "      <td>63</td>\n",
       "      <td>tested_negative</td>\n",
       "    </tr>\n",
       "    <tr>\n",
       "      <th>764</th>\n",
       "      <td>2</td>\n",
       "      <td>122</td>\n",
       "      <td>70</td>\n",
       "      <td>27</td>\n",
       "      <td>0</td>\n",
       "      <td>36.8</td>\n",
       "      <td>0.340</td>\n",
       "      <td>27</td>\n",
       "      <td>tested_negative</td>\n",
       "    </tr>\n",
       "    <tr>\n",
       "      <th>765</th>\n",
       "      <td>5</td>\n",
       "      <td>121</td>\n",
       "      <td>72</td>\n",
       "      <td>23</td>\n",
       "      <td>112</td>\n",
       "      <td>26.2</td>\n",
       "      <td>0.245</td>\n",
       "      <td>30</td>\n",
       "      <td>tested_negative</td>\n",
       "    </tr>\n",
       "    <tr>\n",
       "      <th>766</th>\n",
       "      <td>1</td>\n",
       "      <td>126</td>\n",
       "      <td>60</td>\n",
       "      <td>0</td>\n",
       "      <td>0</td>\n",
       "      <td>30.1</td>\n",
       "      <td>0.349</td>\n",
       "      <td>47</td>\n",
       "      <td>tested_positive</td>\n",
       "    </tr>\n",
       "    <tr>\n",
       "      <th>767</th>\n",
       "      <td>1</td>\n",
       "      <td>93</td>\n",
       "      <td>70</td>\n",
       "      <td>31</td>\n",
       "      <td>0</td>\n",
       "      <td>30.4</td>\n",
       "      <td>0.315</td>\n",
       "      <td>23</td>\n",
       "      <td>tested_negative</td>\n",
       "    </tr>\n",
       "  </tbody>\n",
       "</table>\n",
       "<p>768 rows × 9 columns</p>\n",
       "</div>"
      ],
      "text/plain": [
       "     preg  plas  pres  skin  insu  mass   pedi  age            class\n",
       "0       6   148    72    35     0  33.6  0.627   50  tested_positive\n",
       "1       1    85    66    29     0  26.6  0.351   31  tested_negative\n",
       "2       8   183    64     0     0  23.3  0.672   32  tested_positive\n",
       "3       1    89    66    23    94  28.1  0.167   21  tested_negative\n",
       "4       0   137    40    35   168  43.1  2.288   33  tested_positive\n",
       "..    ...   ...   ...   ...   ...   ...    ...  ...              ...\n",
       "763    10   101    76    48   180  32.9  0.171   63  tested_negative\n",
       "764     2   122    70    27     0  36.8  0.340   27  tested_negative\n",
       "765     5   121    72    23   112  26.2  0.245   30  tested_negative\n",
       "766     1   126    60     0     0  30.1  0.349   47  tested_positive\n",
       "767     1    93    70    31     0  30.4  0.315   23  tested_negative\n",
       "\n",
       "[768 rows x 9 columns]"
      ]
     },
     "execution_count": 30,
     "metadata": {},
     "output_type": "execute_result"
    }
   ],
   "source": [
    "dfex"
   ]
  },
  {
   "cell_type": "code",
   "execution_count": 34,
   "id": "42feac93-8445-4b76-b9ae-9de54aea9a99",
   "metadata": {},
   "outputs": [],
   "source": [
    "dftxt=pd.read_csv(r\"C:\\Users\\HP\\Documents\\grades_withnulls.txt\")"
   ]
  },
  {
   "cell_type": "code",
   "execution_count": 36,
   "id": "67a47516-52ac-4f6f-bced-a3b819b2acdb",
   "metadata": {},
   "outputs": [
    {
     "data": {
      "text/html": [
       "<div>\n",
       "<style scoped>\n",
       "    .dataframe tbody tr th:only-of-type {\n",
       "        vertical-align: middle;\n",
       "    }\n",
       "\n",
       "    .dataframe tbody tr th {\n",
       "        vertical-align: top;\n",
       "    }\n",
       "\n",
       "    .dataframe thead th {\n",
       "        text-align: right;\n",
       "    }\n",
       "</style>\n",
       "<table border=\"1\" class=\"dataframe\">\n",
       "  <thead>\n",
       "    <tr style=\"text-align: right;\">\n",
       "      <th></th>\n",
       "      <th>Names Initials SEM1 SEM2 SEM3 Grade Placed</th>\n",
       "    </tr>\n",
       "  </thead>\n",
       "  <tbody>\n",
       "    <tr>\n",
       "      <th>0</th>\n",
       "      <td>Joe K 9.8 10 9.9 A+ 1</td>\n",
       "    </tr>\n",
       "    <tr>\n",
       "      <th>1</th>\n",
       "      <td>Rajesh M 8.9 9.1 9.3 A 1</td>\n",
       "    </tr>\n",
       "    <tr>\n",
       "      <th>2</th>\n",
       "      <td>Kissan V 9.9 9.8 10 A 0</td>\n",
       "    </tr>\n",
       "    <tr>\n",
       "      <th>3</th>\n",
       "      <td>Mary N 7.7 8 NaN B 0</td>\n",
       "    </tr>\n",
       "    <tr>\n",
       "      <th>4</th>\n",
       "      <td>Jeen K 9.8 9.1 9.9 A+ 1</td>\n",
       "    </tr>\n",
       "    <tr>\n",
       "      <th>5</th>\n",
       "      <td>Raj M 8.9 9.1 9.3 A 1</td>\n",
       "    </tr>\n",
       "    <tr>\n",
       "      <th>6</th>\n",
       "      <td>Hassan V 9.9 9 9.2 A 1</td>\n",
       "    </tr>\n",
       "    <tr>\n",
       "      <th>7</th>\n",
       "      <td>Mari N 7.7 8 7.1 B 1</td>\n",
       "    </tr>\n",
       "    <tr>\n",
       "      <th>8</th>\n",
       "      <td>Jess K NaN 9.1 9.9 A+ 1</td>\n",
       "    </tr>\n",
       "    <tr>\n",
       "      <th>9</th>\n",
       "      <td>Rajini M NaN 9.1 9.3 A 0</td>\n",
       "    </tr>\n",
       "    <tr>\n",
       "      <th>10</th>\n",
       "      <td>Kiran V NaN 9.3 9.2 A 0</td>\n",
       "    </tr>\n",
       "    <tr>\n",
       "      <th>11</th>\n",
       "      <td>Maya N 7.7 8 7.1 B 0</td>\n",
       "    </tr>\n",
       "    <tr>\n",
       "      <th>12</th>\n",
       "      <td>Jolin K 9.8 9.1 9.9 A+ 1</td>\n",
       "    </tr>\n",
       "    <tr>\n",
       "      <th>13</th>\n",
       "      <td>Rajesh M 8.9 9.1 9.3 A 1</td>\n",
       "    </tr>\n",
       "    <tr>\n",
       "      <th>14</th>\n",
       "      <td>Riya M 9.3 9.9 10 A 1</td>\n",
       "    </tr>\n",
       "    <tr>\n",
       "      <th>15</th>\n",
       "      <td>Sana V 9.9 9.3 9.2 A 0</td>\n",
       "    </tr>\n",
       "    <tr>\n",
       "      <th>16</th>\n",
       "      <td>Mark N 7.7 8 7 B 0</td>\n",
       "    </tr>\n",
       "  </tbody>\n",
       "</table>\n",
       "</div>"
      ],
      "text/plain": [
       "   Names Initials SEM1 SEM2 SEM3 Grade Placed\n",
       "0                       Joe K 9.8 10 9.9 A+ 1\n",
       "1                   Rajesh M 8.9 9.1 9.3 A 1 \n",
       "2                     Kissan V 9.9 9.8 10 A 0\n",
       "3                        Mary N 7.7 8 NaN B 0\n",
       "4                     Jeen K 9.8 9.1 9.9 A+ 1\n",
       "5                       Raj M 8.9 9.1 9.3 A 1\n",
       "6                      Hassan V 9.9 9 9.2 A 1\n",
       "7                        Mari N 7.7 8 7.1 B 1\n",
       "8                     Jess K NaN 9.1 9.9 A+ 1\n",
       "9                    Rajini M NaN 9.1 9.3 A 0\n",
       "10                    Kiran V NaN 9.3 9.2 A 0\n",
       "11                       Maya N 7.7 8 7.1 B 0\n",
       "12                   Jolin K 9.8 9.1 9.9 A+ 1\n",
       "13                   Rajesh M 8.9 9.1 9.3 A 1\n",
       "14                      Riya M 9.3 9.9 10 A 1\n",
       "15                     Sana V 9.9 9.3 9.2 A 0\n",
       "16                         Mark N 7.7 8 7 B 0"
      ]
     },
     "execution_count": 36,
     "metadata": {},
     "output_type": "execute_result"
    }
   ],
   "source": [
    "dftxt"
   ]
  },
  {
   "cell_type": "code",
   "execution_count": 38,
   "id": "75062a34-95df-4b48-900e-e41c694c81f2",
   "metadata": {},
   "outputs": [
    {
     "data": {
      "text/html": [
       "<div>\n",
       "<style scoped>\n",
       "    .dataframe tbody tr th:only-of-type {\n",
       "        vertical-align: middle;\n",
       "    }\n",
       "\n",
       "    .dataframe tbody tr th {\n",
       "        vertical-align: top;\n",
       "    }\n",
       "\n",
       "    .dataframe thead th {\n",
       "        text-align: right;\n",
       "    }\n",
       "</style>\n",
       "<table border=\"1\" class=\"dataframe\">\n",
       "  <thead>\n",
       "    <tr style=\"text-align: right;\">\n",
       "      <th></th>\n",
       "      <th>preg</th>\n",
       "      <th>plas</th>\n",
       "      <th>pres</th>\n",
       "      <th>skin</th>\n",
       "      <th>insu</th>\n",
       "      <th>mass</th>\n",
       "      <th>pedi</th>\n",
       "      <th>age</th>\n",
       "    </tr>\n",
       "  </thead>\n",
       "  <tbody>\n",
       "    <tr>\n",
       "      <th>count</th>\n",
       "      <td>768.000000</td>\n",
       "      <td>768.000000</td>\n",
       "      <td>768.000000</td>\n",
       "      <td>768.000000</td>\n",
       "      <td>768.000000</td>\n",
       "      <td>768.000000</td>\n",
       "      <td>768.000000</td>\n",
       "      <td>768.000000</td>\n",
       "    </tr>\n",
       "    <tr>\n",
       "      <th>mean</th>\n",
       "      <td>3.845052</td>\n",
       "      <td>120.894531</td>\n",
       "      <td>69.105469</td>\n",
       "      <td>20.536458</td>\n",
       "      <td>79.799479</td>\n",
       "      <td>31.992578</td>\n",
       "      <td>0.471876</td>\n",
       "      <td>33.240885</td>\n",
       "    </tr>\n",
       "    <tr>\n",
       "      <th>std</th>\n",
       "      <td>3.369578</td>\n",
       "      <td>31.972618</td>\n",
       "      <td>19.355807</td>\n",
       "      <td>15.952218</td>\n",
       "      <td>115.244002</td>\n",
       "      <td>7.884160</td>\n",
       "      <td>0.331329</td>\n",
       "      <td>11.760232</td>\n",
       "    </tr>\n",
       "    <tr>\n",
       "      <th>min</th>\n",
       "      <td>0.000000</td>\n",
       "      <td>0.000000</td>\n",
       "      <td>0.000000</td>\n",
       "      <td>0.000000</td>\n",
       "      <td>0.000000</td>\n",
       "      <td>0.000000</td>\n",
       "      <td>0.078000</td>\n",
       "      <td>21.000000</td>\n",
       "    </tr>\n",
       "    <tr>\n",
       "      <th>25%</th>\n",
       "      <td>1.000000</td>\n",
       "      <td>99.000000</td>\n",
       "      <td>62.000000</td>\n",
       "      <td>0.000000</td>\n",
       "      <td>0.000000</td>\n",
       "      <td>27.300000</td>\n",
       "      <td>0.243750</td>\n",
       "      <td>24.000000</td>\n",
       "    </tr>\n",
       "    <tr>\n",
       "      <th>50%</th>\n",
       "      <td>3.000000</td>\n",
       "      <td>117.000000</td>\n",
       "      <td>72.000000</td>\n",
       "      <td>23.000000</td>\n",
       "      <td>30.500000</td>\n",
       "      <td>32.000000</td>\n",
       "      <td>0.372500</td>\n",
       "      <td>29.000000</td>\n",
       "    </tr>\n",
       "    <tr>\n",
       "      <th>75%</th>\n",
       "      <td>6.000000</td>\n",
       "      <td>140.250000</td>\n",
       "      <td>80.000000</td>\n",
       "      <td>32.000000</td>\n",
       "      <td>127.250000</td>\n",
       "      <td>36.600000</td>\n",
       "      <td>0.626250</td>\n",
       "      <td>41.000000</td>\n",
       "    </tr>\n",
       "    <tr>\n",
       "      <th>max</th>\n",
       "      <td>17.000000</td>\n",
       "      <td>199.000000</td>\n",
       "      <td>122.000000</td>\n",
       "      <td>99.000000</td>\n",
       "      <td>846.000000</td>\n",
       "      <td>67.100000</td>\n",
       "      <td>2.420000</td>\n",
       "      <td>81.000000</td>\n",
       "    </tr>\n",
       "  </tbody>\n",
       "</table>\n",
       "</div>"
      ],
      "text/plain": [
       "             preg        plas        pres        skin        insu        mass  \\\n",
       "count  768.000000  768.000000  768.000000  768.000000  768.000000  768.000000   \n",
       "mean     3.845052  120.894531   69.105469   20.536458   79.799479   31.992578   \n",
       "std      3.369578   31.972618   19.355807   15.952218  115.244002    7.884160   \n",
       "min      0.000000    0.000000    0.000000    0.000000    0.000000    0.000000   \n",
       "25%      1.000000   99.000000   62.000000    0.000000    0.000000   27.300000   \n",
       "50%      3.000000  117.000000   72.000000   23.000000   30.500000   32.000000   \n",
       "75%      6.000000  140.250000   80.000000   32.000000  127.250000   36.600000   \n",
       "max     17.000000  199.000000  122.000000   99.000000  846.000000   67.100000   \n",
       "\n",
       "             pedi         age  \n",
       "count  768.000000  768.000000  \n",
       "mean     0.471876   33.240885  \n",
       "std      0.331329   11.760232  \n",
       "min      0.078000   21.000000  \n",
       "25%      0.243750   24.000000  \n",
       "50%      0.372500   29.000000  \n",
       "75%      0.626250   41.000000  \n",
       "max      2.420000   81.000000  "
      ]
     },
     "execution_count": 38,
     "metadata": {},
     "output_type": "execute_result"
    }
   ],
   "source": [
    "dfex.describe()"
   ]
  },
  {
   "cell_type": "code",
   "execution_count": 44,
   "id": "b11408e5-71bd-4cd7-b61d-4fb42625d70f",
   "metadata": {},
   "outputs": [],
   "source": [
    "demodf=pd.read_csv(r\"C:\\Users\\HP\\Documents\\grades_withnulls.csv\")\n"
   ]
  },
  {
   "cell_type": "code",
   "execution_count": 46,
   "id": "4be0932a-aaa2-4300-bc3f-3f3aa2096eb4",
   "metadata": {},
   "outputs": [
    {
     "data": {
      "text/html": [
       "<div>\n",
       "<style scoped>\n",
       "    .dataframe tbody tr th:only-of-type {\n",
       "        vertical-align: middle;\n",
       "    }\n",
       "\n",
       "    .dataframe tbody tr th {\n",
       "        vertical-align: top;\n",
       "    }\n",
       "\n",
       "    .dataframe thead th {\n",
       "        text-align: right;\n",
       "    }\n",
       "</style>\n",
       "<table border=\"1\" class=\"dataframe\">\n",
       "  <thead>\n",
       "    <tr style=\"text-align: right;\">\n",
       "      <th></th>\n",
       "      <th>Names</th>\n",
       "      <th>Initials</th>\n",
       "      <th>SEM1</th>\n",
       "      <th>SEM2</th>\n",
       "      <th>SEM3</th>\n",
       "      <th>Grade</th>\n",
       "      <th>Placed</th>\n",
       "    </tr>\n",
       "  </thead>\n",
       "  <tbody>\n",
       "    <tr>\n",
       "      <th>0</th>\n",
       "      <td>Joe</td>\n",
       "      <td>K</td>\n",
       "      <td>9.8</td>\n",
       "      <td>10.0</td>\n",
       "      <td>9.9</td>\n",
       "      <td>A+</td>\n",
       "      <td>1</td>\n",
       "    </tr>\n",
       "    <tr>\n",
       "      <th>1</th>\n",
       "      <td>Rajesh</td>\n",
       "      <td>M</td>\n",
       "      <td>8.9</td>\n",
       "      <td>9.1</td>\n",
       "      <td>9.3</td>\n",
       "      <td>A</td>\n",
       "      <td>1</td>\n",
       "    </tr>\n",
       "    <tr>\n",
       "      <th>2</th>\n",
       "      <td>Kissan</td>\n",
       "      <td>V</td>\n",
       "      <td>9.9</td>\n",
       "      <td>9.8</td>\n",
       "      <td>10.0</td>\n",
       "      <td>A</td>\n",
       "      <td>0</td>\n",
       "    </tr>\n",
       "    <tr>\n",
       "      <th>3</th>\n",
       "      <td>Mary</td>\n",
       "      <td>N</td>\n",
       "      <td>7.7</td>\n",
       "      <td>8.0</td>\n",
       "      <td>NaN</td>\n",
       "      <td>B</td>\n",
       "      <td>0</td>\n",
       "    </tr>\n",
       "    <tr>\n",
       "      <th>4</th>\n",
       "      <td>Jeen</td>\n",
       "      <td>K</td>\n",
       "      <td>9.8</td>\n",
       "      <td>9.1</td>\n",
       "      <td>9.9</td>\n",
       "      <td>A+</td>\n",
       "      <td>1</td>\n",
       "    </tr>\n",
       "    <tr>\n",
       "      <th>5</th>\n",
       "      <td>Raj</td>\n",
       "      <td>M</td>\n",
       "      <td>8.9</td>\n",
       "      <td>9.1</td>\n",
       "      <td>9.3</td>\n",
       "      <td>A</td>\n",
       "      <td>1</td>\n",
       "    </tr>\n",
       "    <tr>\n",
       "      <th>6</th>\n",
       "      <td>Hassan</td>\n",
       "      <td>V</td>\n",
       "      <td>9.9</td>\n",
       "      <td>9.0</td>\n",
       "      <td>9.2</td>\n",
       "      <td>A</td>\n",
       "      <td>1</td>\n",
       "    </tr>\n",
       "    <tr>\n",
       "      <th>7</th>\n",
       "      <td>Mari</td>\n",
       "      <td>N</td>\n",
       "      <td>7.7</td>\n",
       "      <td>8.0</td>\n",
       "      <td>7.1</td>\n",
       "      <td>B</td>\n",
       "      <td>1</td>\n",
       "    </tr>\n",
       "    <tr>\n",
       "      <th>8</th>\n",
       "      <td>Jess</td>\n",
       "      <td>K</td>\n",
       "      <td>NaN</td>\n",
       "      <td>9.1</td>\n",
       "      <td>9.9</td>\n",
       "      <td>A+</td>\n",
       "      <td>1</td>\n",
       "    </tr>\n",
       "    <tr>\n",
       "      <th>9</th>\n",
       "      <td>Rajini</td>\n",
       "      <td>M</td>\n",
       "      <td>NaN</td>\n",
       "      <td>9.1</td>\n",
       "      <td>9.3</td>\n",
       "      <td>A</td>\n",
       "      <td>0</td>\n",
       "    </tr>\n",
       "    <tr>\n",
       "      <th>10</th>\n",
       "      <td>Kiran</td>\n",
       "      <td>V</td>\n",
       "      <td>NaN</td>\n",
       "      <td>9.3</td>\n",
       "      <td>9.2</td>\n",
       "      <td>A</td>\n",
       "      <td>0</td>\n",
       "    </tr>\n",
       "    <tr>\n",
       "      <th>11</th>\n",
       "      <td>Maya</td>\n",
       "      <td>N</td>\n",
       "      <td>7.7</td>\n",
       "      <td>8.0</td>\n",
       "      <td>7.1</td>\n",
       "      <td>B</td>\n",
       "      <td>0</td>\n",
       "    </tr>\n",
       "    <tr>\n",
       "      <th>12</th>\n",
       "      <td>Jolin</td>\n",
       "      <td>K</td>\n",
       "      <td>9.8</td>\n",
       "      <td>9.1</td>\n",
       "      <td>9.9</td>\n",
       "      <td>A+</td>\n",
       "      <td>1</td>\n",
       "    </tr>\n",
       "    <tr>\n",
       "      <th>13</th>\n",
       "      <td>Rajesh</td>\n",
       "      <td>M</td>\n",
       "      <td>8.9</td>\n",
       "      <td>9.1</td>\n",
       "      <td>9.3</td>\n",
       "      <td>A</td>\n",
       "      <td>1</td>\n",
       "    </tr>\n",
       "    <tr>\n",
       "      <th>14</th>\n",
       "      <td>Riya</td>\n",
       "      <td>M</td>\n",
       "      <td>9.3</td>\n",
       "      <td>9.9</td>\n",
       "      <td>10.0</td>\n",
       "      <td>A</td>\n",
       "      <td>1</td>\n",
       "    </tr>\n",
       "    <tr>\n",
       "      <th>15</th>\n",
       "      <td>Sana</td>\n",
       "      <td>V</td>\n",
       "      <td>9.9</td>\n",
       "      <td>9.3</td>\n",
       "      <td>9.2</td>\n",
       "      <td>A</td>\n",
       "      <td>0</td>\n",
       "    </tr>\n",
       "    <tr>\n",
       "      <th>16</th>\n",
       "      <td>Mark</td>\n",
       "      <td>N</td>\n",
       "      <td>7.7</td>\n",
       "      <td>8.0</td>\n",
       "      <td>7.0</td>\n",
       "      <td>B</td>\n",
       "      <td>0</td>\n",
       "    </tr>\n",
       "  </tbody>\n",
       "</table>\n",
       "</div>"
      ],
      "text/plain": [
       "     Names Initials  SEM1  SEM2  SEM3 Grade  Placed\n",
       "0      Joe        K   9.8  10.0   9.9    A+       1\n",
       "1   Rajesh        M   8.9   9.1   9.3     A       1\n",
       "2   Kissan        V   9.9   9.8  10.0     A       0\n",
       "3     Mary        N   7.7   8.0   NaN     B       0\n",
       "4     Jeen        K   9.8   9.1   9.9    A+       1\n",
       "5      Raj        M   8.9   9.1   9.3     A       1\n",
       "6   Hassan        V   9.9   9.0   9.2     A       1\n",
       "7     Mari        N   7.7   8.0   7.1     B       1\n",
       "8     Jess        K   NaN   9.1   9.9    A+       1\n",
       "9   Rajini        M   NaN   9.1   9.3     A       0\n",
       "10   Kiran        V   NaN   9.3   9.2     A       0\n",
       "11    Maya        N   7.7   8.0   7.1     B       0\n",
       "12   Jolin        K   9.8   9.1   9.9    A+       1\n",
       "13  Rajesh        M   8.9   9.1   9.3     A       1\n",
       "14    Riya        M   9.3   9.9  10.0     A       1\n",
       "15    Sana        V   9.9   9.3   9.2     A       0\n",
       "16    Mark        N   7.7   8.0   7.0     B       0"
      ]
     },
     "execution_count": 46,
     "metadata": {},
     "output_type": "execute_result"
    }
   ],
   "source": [
    "demodf"
   ]
  },
  {
   "cell_type": "code",
   "execution_count": 48,
   "id": "e75f1c7b-49c5-495f-a76d-e768661467cf",
   "metadata": {},
   "outputs": [
    {
     "data": {
      "text/plain": [
       "Names       0\n",
       "Initials    0\n",
       "SEM1        3\n",
       "SEM2        0\n",
       "SEM3        1\n",
       "Grade       0\n",
       "Placed      0\n",
       "dtype: int64"
      ]
     },
     "execution_count": 48,
     "metadata": {},
     "output_type": "execute_result"
    }
   ],
   "source": [
    "demodf.isnull().sum()"
   ]
  },
  {
   "cell_type": "code",
   "execution_count": 50,
   "id": "e0159a05-06e1-4f5a-822e-9c0791406e18",
   "metadata": {},
   "outputs": [],
   "source": [
    "demodf.fillna(7,inplace=True)"
   ]
  },
  {
   "cell_type": "code",
   "execution_count": 52,
   "id": "3f9b458d-3eef-4dc3-b71d-61faf3607ba0",
   "metadata": {},
   "outputs": [
    {
     "data": {
      "text/html": [
       "<div>\n",
       "<style scoped>\n",
       "    .dataframe tbody tr th:only-of-type {\n",
       "        vertical-align: middle;\n",
       "    }\n",
       "\n",
       "    .dataframe tbody tr th {\n",
       "        vertical-align: top;\n",
       "    }\n",
       "\n",
       "    .dataframe thead th {\n",
       "        text-align: right;\n",
       "    }\n",
       "</style>\n",
       "<table border=\"1\" class=\"dataframe\">\n",
       "  <thead>\n",
       "    <tr style=\"text-align: right;\">\n",
       "      <th></th>\n",
       "      <th>Names</th>\n",
       "      <th>Initials</th>\n",
       "      <th>SEM1</th>\n",
       "      <th>SEM2</th>\n",
       "      <th>SEM3</th>\n",
       "      <th>Grade</th>\n",
       "      <th>Placed</th>\n",
       "    </tr>\n",
       "  </thead>\n",
       "  <tbody>\n",
       "    <tr>\n",
       "      <th>0</th>\n",
       "      <td>Joe</td>\n",
       "      <td>K</td>\n",
       "      <td>9.8</td>\n",
       "      <td>10.0</td>\n",
       "      <td>9.9</td>\n",
       "      <td>A+</td>\n",
       "      <td>1</td>\n",
       "    </tr>\n",
       "    <tr>\n",
       "      <th>1</th>\n",
       "      <td>Rajesh</td>\n",
       "      <td>M</td>\n",
       "      <td>8.9</td>\n",
       "      <td>9.1</td>\n",
       "      <td>9.3</td>\n",
       "      <td>A</td>\n",
       "      <td>1</td>\n",
       "    </tr>\n",
       "    <tr>\n",
       "      <th>2</th>\n",
       "      <td>Kissan</td>\n",
       "      <td>V</td>\n",
       "      <td>9.9</td>\n",
       "      <td>9.8</td>\n",
       "      <td>10.0</td>\n",
       "      <td>A</td>\n",
       "      <td>0</td>\n",
       "    </tr>\n",
       "    <tr>\n",
       "      <th>3</th>\n",
       "      <td>Mary</td>\n",
       "      <td>N</td>\n",
       "      <td>7.7</td>\n",
       "      <td>8.0</td>\n",
       "      <td>7.0</td>\n",
       "      <td>B</td>\n",
       "      <td>0</td>\n",
       "    </tr>\n",
       "    <tr>\n",
       "      <th>4</th>\n",
       "      <td>Jeen</td>\n",
       "      <td>K</td>\n",
       "      <td>9.8</td>\n",
       "      <td>9.1</td>\n",
       "      <td>9.9</td>\n",
       "      <td>A+</td>\n",
       "      <td>1</td>\n",
       "    </tr>\n",
       "    <tr>\n",
       "      <th>5</th>\n",
       "      <td>Raj</td>\n",
       "      <td>M</td>\n",
       "      <td>8.9</td>\n",
       "      <td>9.1</td>\n",
       "      <td>9.3</td>\n",
       "      <td>A</td>\n",
       "      <td>1</td>\n",
       "    </tr>\n",
       "    <tr>\n",
       "      <th>6</th>\n",
       "      <td>Hassan</td>\n",
       "      <td>V</td>\n",
       "      <td>9.9</td>\n",
       "      <td>9.0</td>\n",
       "      <td>9.2</td>\n",
       "      <td>A</td>\n",
       "      <td>1</td>\n",
       "    </tr>\n",
       "    <tr>\n",
       "      <th>7</th>\n",
       "      <td>Mari</td>\n",
       "      <td>N</td>\n",
       "      <td>7.7</td>\n",
       "      <td>8.0</td>\n",
       "      <td>7.1</td>\n",
       "      <td>B</td>\n",
       "      <td>1</td>\n",
       "    </tr>\n",
       "    <tr>\n",
       "      <th>8</th>\n",
       "      <td>Jess</td>\n",
       "      <td>K</td>\n",
       "      <td>7.0</td>\n",
       "      <td>9.1</td>\n",
       "      <td>9.9</td>\n",
       "      <td>A+</td>\n",
       "      <td>1</td>\n",
       "    </tr>\n",
       "    <tr>\n",
       "      <th>9</th>\n",
       "      <td>Rajini</td>\n",
       "      <td>M</td>\n",
       "      <td>7.0</td>\n",
       "      <td>9.1</td>\n",
       "      <td>9.3</td>\n",
       "      <td>A</td>\n",
       "      <td>0</td>\n",
       "    </tr>\n",
       "    <tr>\n",
       "      <th>10</th>\n",
       "      <td>Kiran</td>\n",
       "      <td>V</td>\n",
       "      <td>7.0</td>\n",
       "      <td>9.3</td>\n",
       "      <td>9.2</td>\n",
       "      <td>A</td>\n",
       "      <td>0</td>\n",
       "    </tr>\n",
       "    <tr>\n",
       "      <th>11</th>\n",
       "      <td>Maya</td>\n",
       "      <td>N</td>\n",
       "      <td>7.7</td>\n",
       "      <td>8.0</td>\n",
       "      <td>7.1</td>\n",
       "      <td>B</td>\n",
       "      <td>0</td>\n",
       "    </tr>\n",
       "    <tr>\n",
       "      <th>12</th>\n",
       "      <td>Jolin</td>\n",
       "      <td>K</td>\n",
       "      <td>9.8</td>\n",
       "      <td>9.1</td>\n",
       "      <td>9.9</td>\n",
       "      <td>A+</td>\n",
       "      <td>1</td>\n",
       "    </tr>\n",
       "    <tr>\n",
       "      <th>13</th>\n",
       "      <td>Rajesh</td>\n",
       "      <td>M</td>\n",
       "      <td>8.9</td>\n",
       "      <td>9.1</td>\n",
       "      <td>9.3</td>\n",
       "      <td>A</td>\n",
       "      <td>1</td>\n",
       "    </tr>\n",
       "    <tr>\n",
       "      <th>14</th>\n",
       "      <td>Riya</td>\n",
       "      <td>M</td>\n",
       "      <td>9.3</td>\n",
       "      <td>9.9</td>\n",
       "      <td>10.0</td>\n",
       "      <td>A</td>\n",
       "      <td>1</td>\n",
       "    </tr>\n",
       "    <tr>\n",
       "      <th>15</th>\n",
       "      <td>Sana</td>\n",
       "      <td>V</td>\n",
       "      <td>9.9</td>\n",
       "      <td>9.3</td>\n",
       "      <td>9.2</td>\n",
       "      <td>A</td>\n",
       "      <td>0</td>\n",
       "    </tr>\n",
       "    <tr>\n",
       "      <th>16</th>\n",
       "      <td>Mark</td>\n",
       "      <td>N</td>\n",
       "      <td>7.7</td>\n",
       "      <td>8.0</td>\n",
       "      <td>7.0</td>\n",
       "      <td>B</td>\n",
       "      <td>0</td>\n",
       "    </tr>\n",
       "  </tbody>\n",
       "</table>\n",
       "</div>"
      ],
      "text/plain": [
       "     Names Initials  SEM1  SEM2  SEM3 Grade  Placed\n",
       "0      Joe        K   9.8  10.0   9.9    A+       1\n",
       "1   Rajesh        M   8.9   9.1   9.3     A       1\n",
       "2   Kissan        V   9.9   9.8  10.0     A       0\n",
       "3     Mary        N   7.7   8.0   7.0     B       0\n",
       "4     Jeen        K   9.8   9.1   9.9    A+       1\n",
       "5      Raj        M   8.9   9.1   9.3     A       1\n",
       "6   Hassan        V   9.9   9.0   9.2     A       1\n",
       "7     Mari        N   7.7   8.0   7.1     B       1\n",
       "8     Jess        K   7.0   9.1   9.9    A+       1\n",
       "9   Rajini        M   7.0   9.1   9.3     A       0\n",
       "10   Kiran        V   7.0   9.3   9.2     A       0\n",
       "11    Maya        N   7.7   8.0   7.1     B       0\n",
       "12   Jolin        K   9.8   9.1   9.9    A+       1\n",
       "13  Rajesh        M   8.9   9.1   9.3     A       1\n",
       "14    Riya        M   9.3   9.9  10.0     A       1\n",
       "15    Sana        V   9.9   9.3   9.2     A       0\n",
       "16    Mark        N   7.7   8.0   7.0     B       0"
      ]
     },
     "execution_count": 52,
     "metadata": {},
     "output_type": "execute_result"
    }
   ],
   "source": [
    "demodf"
   ]
  },
  {
   "cell_type": "code",
   "execution_count": 56,
   "id": "19172b53-75e9-4b35-abfb-39cf53af7625",
   "metadata": {},
   "outputs": [],
   "source": [
    "demodf[\"Average\"]=(demodf[\"SEM1\"]+demodf[\"SEM2\"]+demodf[\"SEM3\"])/3"
   ]
  },
  {
   "cell_type": "code",
   "execution_count": 58,
   "id": "1b5ed4b1-91f1-464c-a69b-36b87d577c12",
   "metadata": {},
   "outputs": [
    {
     "data": {
      "text/html": [
       "<div>\n",
       "<style scoped>\n",
       "    .dataframe tbody tr th:only-of-type {\n",
       "        vertical-align: middle;\n",
       "    }\n",
       "\n",
       "    .dataframe tbody tr th {\n",
       "        vertical-align: top;\n",
       "    }\n",
       "\n",
       "    .dataframe thead th {\n",
       "        text-align: right;\n",
       "    }\n",
       "</style>\n",
       "<table border=\"1\" class=\"dataframe\">\n",
       "  <thead>\n",
       "    <tr style=\"text-align: right;\">\n",
       "      <th></th>\n",
       "      <th>Names</th>\n",
       "      <th>Initials</th>\n",
       "      <th>SEM1</th>\n",
       "      <th>SEM2</th>\n",
       "      <th>SEM3</th>\n",
       "      <th>Grade</th>\n",
       "      <th>Placed</th>\n",
       "      <th>Average</th>\n",
       "    </tr>\n",
       "  </thead>\n",
       "  <tbody>\n",
       "    <tr>\n",
       "      <th>0</th>\n",
       "      <td>Joe</td>\n",
       "      <td>K</td>\n",
       "      <td>9.8</td>\n",
       "      <td>10.0</td>\n",
       "      <td>9.9</td>\n",
       "      <td>A+</td>\n",
       "      <td>1</td>\n",
       "      <td>9.900000</td>\n",
       "    </tr>\n",
       "    <tr>\n",
       "      <th>1</th>\n",
       "      <td>Rajesh</td>\n",
       "      <td>M</td>\n",
       "      <td>8.9</td>\n",
       "      <td>9.1</td>\n",
       "      <td>9.3</td>\n",
       "      <td>A</td>\n",
       "      <td>1</td>\n",
       "      <td>9.100000</td>\n",
       "    </tr>\n",
       "    <tr>\n",
       "      <th>2</th>\n",
       "      <td>Kissan</td>\n",
       "      <td>V</td>\n",
       "      <td>9.9</td>\n",
       "      <td>9.8</td>\n",
       "      <td>10.0</td>\n",
       "      <td>A</td>\n",
       "      <td>0</td>\n",
       "      <td>9.900000</td>\n",
       "    </tr>\n",
       "    <tr>\n",
       "      <th>3</th>\n",
       "      <td>Mary</td>\n",
       "      <td>N</td>\n",
       "      <td>7.7</td>\n",
       "      <td>8.0</td>\n",
       "      <td>7.0</td>\n",
       "      <td>B</td>\n",
       "      <td>0</td>\n",
       "      <td>7.566667</td>\n",
       "    </tr>\n",
       "    <tr>\n",
       "      <th>4</th>\n",
       "      <td>Jeen</td>\n",
       "      <td>K</td>\n",
       "      <td>9.8</td>\n",
       "      <td>9.1</td>\n",
       "      <td>9.9</td>\n",
       "      <td>A+</td>\n",
       "      <td>1</td>\n",
       "      <td>9.600000</td>\n",
       "    </tr>\n",
       "    <tr>\n",
       "      <th>5</th>\n",
       "      <td>Raj</td>\n",
       "      <td>M</td>\n",
       "      <td>8.9</td>\n",
       "      <td>9.1</td>\n",
       "      <td>9.3</td>\n",
       "      <td>A</td>\n",
       "      <td>1</td>\n",
       "      <td>9.100000</td>\n",
       "    </tr>\n",
       "    <tr>\n",
       "      <th>6</th>\n",
       "      <td>Hassan</td>\n",
       "      <td>V</td>\n",
       "      <td>9.9</td>\n",
       "      <td>9.0</td>\n",
       "      <td>9.2</td>\n",
       "      <td>A</td>\n",
       "      <td>1</td>\n",
       "      <td>9.366667</td>\n",
       "    </tr>\n",
       "    <tr>\n",
       "      <th>7</th>\n",
       "      <td>Mari</td>\n",
       "      <td>N</td>\n",
       "      <td>7.7</td>\n",
       "      <td>8.0</td>\n",
       "      <td>7.1</td>\n",
       "      <td>B</td>\n",
       "      <td>1</td>\n",
       "      <td>7.600000</td>\n",
       "    </tr>\n",
       "    <tr>\n",
       "      <th>8</th>\n",
       "      <td>Jess</td>\n",
       "      <td>K</td>\n",
       "      <td>7.0</td>\n",
       "      <td>9.1</td>\n",
       "      <td>9.9</td>\n",
       "      <td>A+</td>\n",
       "      <td>1</td>\n",
       "      <td>8.666667</td>\n",
       "    </tr>\n",
       "    <tr>\n",
       "      <th>9</th>\n",
       "      <td>Rajini</td>\n",
       "      <td>M</td>\n",
       "      <td>7.0</td>\n",
       "      <td>9.1</td>\n",
       "      <td>9.3</td>\n",
       "      <td>A</td>\n",
       "      <td>0</td>\n",
       "      <td>8.466667</td>\n",
       "    </tr>\n",
       "    <tr>\n",
       "      <th>10</th>\n",
       "      <td>Kiran</td>\n",
       "      <td>V</td>\n",
       "      <td>7.0</td>\n",
       "      <td>9.3</td>\n",
       "      <td>9.2</td>\n",
       "      <td>A</td>\n",
       "      <td>0</td>\n",
       "      <td>8.500000</td>\n",
       "    </tr>\n",
       "    <tr>\n",
       "      <th>11</th>\n",
       "      <td>Maya</td>\n",
       "      <td>N</td>\n",
       "      <td>7.7</td>\n",
       "      <td>8.0</td>\n",
       "      <td>7.1</td>\n",
       "      <td>B</td>\n",
       "      <td>0</td>\n",
       "      <td>7.600000</td>\n",
       "    </tr>\n",
       "    <tr>\n",
       "      <th>12</th>\n",
       "      <td>Jolin</td>\n",
       "      <td>K</td>\n",
       "      <td>9.8</td>\n",
       "      <td>9.1</td>\n",
       "      <td>9.9</td>\n",
       "      <td>A+</td>\n",
       "      <td>1</td>\n",
       "      <td>9.600000</td>\n",
       "    </tr>\n",
       "    <tr>\n",
       "      <th>13</th>\n",
       "      <td>Rajesh</td>\n",
       "      <td>M</td>\n",
       "      <td>8.9</td>\n",
       "      <td>9.1</td>\n",
       "      <td>9.3</td>\n",
       "      <td>A</td>\n",
       "      <td>1</td>\n",
       "      <td>9.100000</td>\n",
       "    </tr>\n",
       "    <tr>\n",
       "      <th>14</th>\n",
       "      <td>Riya</td>\n",
       "      <td>M</td>\n",
       "      <td>9.3</td>\n",
       "      <td>9.9</td>\n",
       "      <td>10.0</td>\n",
       "      <td>A</td>\n",
       "      <td>1</td>\n",
       "      <td>9.733333</td>\n",
       "    </tr>\n",
       "    <tr>\n",
       "      <th>15</th>\n",
       "      <td>Sana</td>\n",
       "      <td>V</td>\n",
       "      <td>9.9</td>\n",
       "      <td>9.3</td>\n",
       "      <td>9.2</td>\n",
       "      <td>A</td>\n",
       "      <td>0</td>\n",
       "      <td>9.466667</td>\n",
       "    </tr>\n",
       "    <tr>\n",
       "      <th>16</th>\n",
       "      <td>Mark</td>\n",
       "      <td>N</td>\n",
       "      <td>7.7</td>\n",
       "      <td>8.0</td>\n",
       "      <td>7.0</td>\n",
       "      <td>B</td>\n",
       "      <td>0</td>\n",
       "      <td>7.566667</td>\n",
       "    </tr>\n",
       "  </tbody>\n",
       "</table>\n",
       "</div>"
      ],
      "text/plain": [
       "     Names Initials  SEM1  SEM2  SEM3 Grade  Placed   Average\n",
       "0      Joe        K   9.8  10.0   9.9    A+       1  9.900000\n",
       "1   Rajesh        M   8.9   9.1   9.3     A       1  9.100000\n",
       "2   Kissan        V   9.9   9.8  10.0     A       0  9.900000\n",
       "3     Mary        N   7.7   8.0   7.0     B       0  7.566667\n",
       "4     Jeen        K   9.8   9.1   9.9    A+       1  9.600000\n",
       "5      Raj        M   8.9   9.1   9.3     A       1  9.100000\n",
       "6   Hassan        V   9.9   9.0   9.2     A       1  9.366667\n",
       "7     Mari        N   7.7   8.0   7.1     B       1  7.600000\n",
       "8     Jess        K   7.0   9.1   9.9    A+       1  8.666667\n",
       "9   Rajini        M   7.0   9.1   9.3     A       0  8.466667\n",
       "10   Kiran        V   7.0   9.3   9.2     A       0  8.500000\n",
       "11    Maya        N   7.7   8.0   7.1     B       0  7.600000\n",
       "12   Jolin        K   9.8   9.1   9.9    A+       1  9.600000\n",
       "13  Rajesh        M   8.9   9.1   9.3     A       1  9.100000\n",
       "14    Riya        M   9.3   9.9  10.0     A       1  9.733333\n",
       "15    Sana        V   9.9   9.3   9.2     A       0  9.466667\n",
       "16    Mark        N   7.7   8.0   7.0     B       0  7.566667"
      ]
     },
     "execution_count": 58,
     "metadata": {},
     "output_type": "execute_result"
    }
   ],
   "source": [
    "demodf"
   ]
  },
  {
   "cell_type": "code",
   "execution_count": 62,
   "id": "33e198d8-a820-444a-987a-6f8b2fea7420",
   "metadata": {},
   "outputs": [
    {
     "data": {
      "text/html": [
       "<div>\n",
       "<style scoped>\n",
       "    .dataframe tbody tr th:only-of-type {\n",
       "        vertical-align: middle;\n",
       "    }\n",
       "\n",
       "    .dataframe tbody tr th {\n",
       "        vertical-align: top;\n",
       "    }\n",
       "\n",
       "    .dataframe thead th {\n",
       "        text-align: right;\n",
       "    }\n",
       "</style>\n",
       "<table border=\"1\" class=\"dataframe\">\n",
       "  <thead>\n",
       "    <tr style=\"text-align: right;\">\n",
       "      <th></th>\n",
       "      <th>Names</th>\n",
       "      <th>Grade</th>\n",
       "    </tr>\n",
       "  </thead>\n",
       "  <tbody>\n",
       "    <tr>\n",
       "      <th>4</th>\n",
       "      <td>Jeen</td>\n",
       "      <td>A+</td>\n",
       "    </tr>\n",
       "    <tr>\n",
       "      <th>5</th>\n",
       "      <td>Raj</td>\n",
       "      <td>A</td>\n",
       "    </tr>\n",
       "    <tr>\n",
       "      <th>6</th>\n",
       "      <td>Hassan</td>\n",
       "      <td>A</td>\n",
       "    </tr>\n",
       "    <tr>\n",
       "      <th>7</th>\n",
       "      <td>Mari</td>\n",
       "      <td>B</td>\n",
       "    </tr>\n",
       "    <tr>\n",
       "      <th>8</th>\n",
       "      <td>Jess</td>\n",
       "      <td>A+</td>\n",
       "    </tr>\n",
       "  </tbody>\n",
       "</table>\n",
       "</div>"
      ],
      "text/plain": [
       "    Names Grade\n",
       "4    Jeen    A+\n",
       "5     Raj     A\n",
       "6  Hassan     A\n",
       "7    Mari     B\n",
       "8    Jess    A+"
      ]
     },
     "execution_count": 62,
     "metadata": {},
     "output_type": "execute_result"
    }
   ],
   "source": [
    "#access\n",
    "demodf.loc[4:8,['Names','Grade']]\n"
   ]
  },
  {
   "cell_type": "code",
   "execution_count": 64,
   "id": "3603560e-ccb8-407d-a42b-44482ad4ee25",
   "metadata": {},
   "outputs": [
    {
     "data": {
      "text/html": [
       "<div>\n",
       "<style scoped>\n",
       "    .dataframe tbody tr th:only-of-type {\n",
       "        vertical-align: middle;\n",
       "    }\n",
       "\n",
       "    .dataframe tbody tr th {\n",
       "        vertical-align: top;\n",
       "    }\n",
       "\n",
       "    .dataframe thead th {\n",
       "        text-align: right;\n",
       "    }\n",
       "</style>\n",
       "<table border=\"1\" class=\"dataframe\">\n",
       "  <thead>\n",
       "    <tr style=\"text-align: right;\">\n",
       "      <th></th>\n",
       "      <th>Names</th>\n",
       "      <th>Initials</th>\n",
       "      <th>SEM1</th>\n",
       "    </tr>\n",
       "  </thead>\n",
       "  <tbody>\n",
       "    <tr>\n",
       "      <th>0</th>\n",
       "      <td>Joe</td>\n",
       "      <td>K</td>\n",
       "      <td>9.8</td>\n",
       "    </tr>\n",
       "    <tr>\n",
       "      <th>1</th>\n",
       "      <td>Rajesh</td>\n",
       "      <td>M</td>\n",
       "      <td>8.9</td>\n",
       "    </tr>\n",
       "    <tr>\n",
       "      <th>2</th>\n",
       "      <td>Kissan</td>\n",
       "      <td>V</td>\n",
       "      <td>9.9</td>\n",
       "    </tr>\n",
       "    <tr>\n",
       "      <th>3</th>\n",
       "      <td>Mary</td>\n",
       "      <td>N</td>\n",
       "      <td>7.7</td>\n",
       "    </tr>\n",
       "  </tbody>\n",
       "</table>\n",
       "</div>"
      ],
      "text/plain": [
       "    Names Initials  SEM1\n",
       "0     Joe        K   9.8\n",
       "1  Rajesh        M   8.9\n",
       "2  Kissan        V   9.9\n",
       "3    Mary        N   7.7"
      ]
     },
     "execution_count": 64,
     "metadata": {},
     "output_type": "execute_result"
    }
   ],
   "source": [
    "demodf.iloc[0:4,0:3]"
   ]
  },
  {
   "cell_type": "code",
   "execution_count": null,
   "id": "bdd19c99-3d16-46ff-8607-9e9b2f648e7e",
   "metadata": {},
   "outputs": [],
   "source": []
  }
 ],
 "metadata": {
  "kernelspec": {
   "display_name": "Python 3 (ipykernel)",
   "language": "python",
   "name": "python3"
  },
  "language_info": {
   "codemirror_mode": {
    "name": "ipython",
    "version": 3
   },
   "file_extension": ".py",
   "mimetype": "text/x-python",
   "name": "python",
   "nbconvert_exporter": "python",
   "pygments_lexer": "ipython3",
   "version": "3.11.7"
  }
 },
 "nbformat": 4,
 "nbformat_minor": 5
}
