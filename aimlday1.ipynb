{
 "cells": [
  {
   "cell_type": "code",
   "execution_count": 3,
   "id": "6e978905-3ed8-4313-848e-518ec91ae4e9",
   "metadata": {},
   "outputs": [
    {
     "name": "stdout",
     "output_type": "stream",
     "text": [
      "24\n",
      "<class 'int'>\n"
     ]
    }
   ],
   "source": [
    "a=24\n",
    "print(a)\n",
    "print(type(a))"
   ]
  },
  {
   "cell_type": "code",
   "execution_count": 13,
   "id": "c64fa63c-7d6d-4d84-a8d9-894a5bb69329",
   "metadata": {},
   "outputs": [
    {
     "name": "stdin",
     "output_type": "stream",
     "text": [
      "enter the number 2\n"
     ]
    },
    {
     "name": "stdout",
     "output_type": "stream",
     "text": [
      "i am 2 years old\n"
     ]
    }
   ],
   "source": [
    "inp=input(\"enter the number\")\n",
    "print(\"i am\",inp,\"years old\")\n"
   ]
  },
  {
   "cell_type": "code",
   "execution_count": 15,
   "id": "bbb2fc47-0be1-4faf-b0c9-783cdeb0423c",
   "metadata": {},
   "outputs": [
    {
     "name": "stdout",
     "output_type": "stream",
     "text": [
      "i am 24 years old\n"
     ]
    }
   ],
   "source": [
    "print(\"i am\",a,\"years old\")"
   ]
  },
  {
   "cell_type": "code",
   "execution_count": 21,
   "id": "3993403d-e5f8-48cc-a680-80584ecb318b",
   "metadata": {},
   "outputs": [
    {
     "name": "stdin",
     "output_type": "stream",
     "text": [
      "enter a number 6\n",
      "enter a another number 3\n"
     ]
    },
    {
     "name": "stdout",
     "output_type": "stream",
     "text": [
      "the difference is 3\n"
     ]
    }
   ],
   "source": [
    "num1=int(input(\"enter a number\"))\n",
    "num2=int(input(\"enter a another number\"))\n",
    "s=num1-num2\n",
    "print(\"the difference is\",s)\n"
   ]
  },
  {
   "cell_type": "code",
   "execution_count": 23,
   "id": "68577dca-1689-41e8-8d2a-f439ab47ac59",
   "metadata": {},
   "outputs": [
    {
     "name": "stdout",
     "output_type": "stream",
     "text": [
      "21\n",
      "-1\n",
      "110\n",
      "0.9090909090909091\n",
      "10\n",
      "100000000000\n",
      "0\n"
     ]
    }
   ],
   "source": [
    "#airthmetic operation\n",
    "a=10\n",
    "b=11\n",
    "print(a+b)\n",
    "print(a-b)\n",
    "print(a*b)\n",
    "print(a/b) #display floating point\n",
    "print(a%b)\n",
    "print(a**b)\n",
    "print(a//b) #display exact value\n"
   ]
  },
  {
   "cell_type": "code",
   "execution_count": 27,
   "id": "dda3d49b-83b9-4309-994a-05705db5e362",
   "metadata": {},
   "outputs": [
    {
     "name": "stdout",
     "output_type": "stream",
     "text": [
      "1\n"
     ]
    }
   ],
   "source": [
    "a=1\n",
    "b=3\n",
    "print(a**b)"
   ]
  },
  {
   "cell_type": "code",
   "execution_count": 31,
   "id": "04dcc4b3-2f09-4af8-823f-1f016f114625",
   "metadata": {},
   "outputs": [
    {
     "name": "stdin",
     "output_type": "stream",
     "text": [
      "enter a password 123\n"
     ]
    },
    {
     "name": "stdout",
     "output_type": "stream",
     "text": [
      "try again\n"
     ]
    }
   ],
   "source": [
    "password=\"spandana@123\"\n",
    "p=input(\"enter a password\")\n",
    "if p==password:\n",
    "    print(\"welcome\")\n",
    "else:\n",
    "    print(\"try again\")\n"
   ]
  },
  {
   "cell_type": "code",
   "execution_count": 37,
   "id": "dea4ded3-8888-44ad-a3f3-70f370b13da9",
   "metadata": {},
   "outputs": [
    {
     "name": "stdin",
     "output_type": "stream",
     "text": [
      "enter a password spandana\n",
      "enter a pin 1234\n"
     ]
    },
    {
     "name": "stdout",
     "output_type": "stream",
     "text": [
      "welcome\n"
     ]
    }
   ],
   "source": [
    "password=\"spandana\"\n",
    "pin=1234\n",
    "p=input(\"enter a password\")\n",
    "pi=int(input(\"enter a pin\"))\n",
    "\n",
    "if p==password and pi==pin:\n",
    "    print(\"welcome\")\n",
    "else:\n",
    "    print(\"try again\")\n",
    "     \n",
    "   \n",
    "\n",
    "\n"
   ]
  },
  {
   "cell_type": "code",
   "execution_count": 41,
   "id": "f0a60772-bc3c-4a36-ac41-6fed9cb86735",
   "metadata": {},
   "outputs": [
    {
     "name": "stdout",
     "output_type": "stream",
     "text": [
      "hello how ar\n"
     ]
    }
   ],
   "source": [
    "s=\"hello how are you\"\n",
    "print(s[0:-5])"
   ]
  },
  {
   "cell_type": "code",
   "execution_count": 45,
   "id": "5e03e215-95f4-4136-b275-fb2f21206dc6",
   "metadata": {},
   "outputs": [
    {
     "name": "stdout",
     "output_type": "stream",
     "text": [
      "howeu\n"
     ]
    }
   ],
   "source": [
    "s=\"hello how are you\"\n",
    "print(s[0::4])"
   ]
  },
  {
   "cell_type": "code",
   "execution_count": 51,
   "id": "265a5355-409b-406d-aec7-648bb8ed4c58",
   "metadata": {},
   "outputs": [
    {
     "name": "stdout",
     "output_type": "stream",
     "text": [
      "h\n",
      "e\n",
      "l\n",
      "l\n",
      "o\n"
     ]
    }
   ],
   "source": [
    "s=\"hello how are you\"\n",
    "for i in range(0,5):\n",
    " print(s[i])"
   ]
  },
  {
   "cell_type": "code",
   "execution_count": 57,
   "id": "03b2181e-e8f7-41b9-bcf7-23818f68e6a3",
   "metadata": {},
   "outputs": [
    {
     "name": "stdout",
     "output_type": "stream",
     "text": [
      "Factorial of 5 is 120\n"
     ]
    }
   ],
   "source": [
    "def factorial(n):\n",
    "    \n",
    "\n",
    "    return 1 if (n==1 or n==0) else n * factorial(n - 1) \n",
    "num = 5\n",
    "print(\"Factorial of\",num,\"is\",factorial(num))"
   ]
  },
  {
   "cell_type": "code",
   "execution_count": 61,
   "id": "5ee8140f-3a90-4c46-b060-ec42e1f813c7",
   "metadata": {},
   "outputs": [
    {
     "name": "stdout",
     "output_type": "stream",
     "text": [
      "120\n"
     ]
    }
   ],
   "source": [
    "fact=1\n",
    "i=1\n",
    "while i<=5:\n",
    "    fact*=i\n",
    "    i=i+1\n",
    "print(fact)"
   ]
  },
  {
   "cell_type": "code",
   "execution_count": 72,
   "id": "e0e9271e-46d0-402e-bc36-2a339c2f2e9e",
   "metadata": {},
   "outputs": [
    {
     "name": "stdout",
     "output_type": "stream",
     "text": [
      "0\n",
      "1\n",
      "3\n",
      "6\n",
      "10\n",
      "15\n"
     ]
    }
   ],
   "source": [
    "sum=0\n",
    "i=0\n",
    "while i<=5:\n",
    "    sum+=i\n",
    "    i=i+1\n",
    "    print(sum)"
   ]
  },
  {
   "cell_type": "markdown",
   "id": "7e73dceb-2d06-465a-8981-19351d58e042",
   "metadata": {},
   "source": [
    "collectons"
   ]
  },
  {
   "cell_type": "code",
   "execution_count": 76,
   "id": "8c7d18cd-2923-4319-ac6f-b1c191fbf40a",
   "metadata": {},
   "outputs": [
    {
     "name": "stdout",
     "output_type": "stream",
     "text": [
      "[2, 3, 4, 'apple']\n"
     ]
    }
   ],
   "source": [
    "#lists mutable,homogenious,duplicates,accepts\n",
    "list1 = [2,3,4,\"apple\"]\n",
    "print(list1)"
   ]
  },
  {
   "cell_type": "code",
   "execution_count": 78,
   "id": "26c76268-e84f-4c8b-a406-636770a8e780",
   "metadata": {},
   "outputs": [
    {
     "name": "stdout",
     "output_type": "stream",
     "text": [
      "[2, 3, 4, 'apple', 'hello']\n"
     ]
    }
   ],
   "source": [
    "#adding elements in the list\n",
    "list1.append(\"hello\")\n",
    "print(list1)\n"
   ]
  },
  {
   "cell_type": "code",
   "execution_count": 80,
   "id": "31e86cd7-2c8b-420f-a015-c2667ca417a4",
   "metadata": {},
   "outputs": [
    {
     "name": "stdout",
     "output_type": "stream",
     "text": [
      "[2, 3, 4, 'boll', 'apple', 'hello']\n"
     ]
    }
   ],
   "source": [
    "list1.insert(3,\"boll\") #insert(index,element)\n",
    "print(list1)"
   ]
  },
  {
   "cell_type": "code",
   "execution_count": 82,
   "id": "35a6d427-8da9-4c1e-9c4a-d5094c2f1cd1",
   "metadata": {},
   "outputs": [
    {
     "name": "stdout",
     "output_type": "stream",
     "text": [
      "[2, 3, 4, 'apple', 'hello']\n"
     ]
    }
   ],
   "source": [
    "list1.remove(\"boll\") #element\n",
    "print(list1)"
   ]
  },
  {
   "cell_type": "code",
   "execution_count": 84,
   "id": "996da9c6-32ee-48c5-b335-58b992ca7ec5",
   "metadata": {},
   "outputs": [
    {
     "name": "stdout",
     "output_type": "stream",
     "text": [
      "[2, 3, 'apple', 'hello']\n"
     ]
    }
   ],
   "source": [
    "list1.pop(2) #index\n",
    "print(list1)"
   ]
  },
  {
   "cell_type": "code",
   "execution_count": 86,
   "id": "f6f5f6e1-fc51-4083-b35c-f730e21ee39e",
   "metadata": {},
   "outputs": [
    {
     "name": "stdout",
     "output_type": "stream",
     "text": [
      "[2, 3, 4, 6, 7, 'amu', 'suma', 'ram']\n"
     ]
    }
   ],
   "source": [
    "list2=[2,3,4,6,7]\n",
    "list3=[\"amu\",\"suma\",\"ram\"]\n",
    "print(list2+list3)"
   ]
  },
  {
   "cell_type": "code",
   "execution_count": 90,
   "id": "e283143a-affb-4396-b806-c51262350883",
   "metadata": {},
   "outputs": [
    {
     "data": {
      "text/plain": [
       "[45, 34, 29, 22, 12]"
      ]
     },
     "execution_count": 90,
     "metadata": {},
     "output_type": "execute_result"
    }
   ],
   "source": [
    "list5=[22,45,12,34,29] #sort\n",
    "list5.sort(reverse=True)\n",
    "list5"
   ]
  },
  {
   "cell_type": "code",
   "execution_count": 96,
   "id": "be4d123e-a749-4390-aa8a-348752d38b3e",
   "metadata": {},
   "outputs": [
    {
     "data": {
      "text/plain": [
       "[2, 3, 4, 6, 8, 9]"
      ]
     },
     "execution_count": 96,
     "metadata": {},
     "output_type": "execute_result"
    }
   ],
   "source": [
    "#difference diff sort and sorted\n",
    "list6=[2,6,4,8,3,9]\n",
    "list7=sorted(list6) #changes are not reflected in original list\n",
    "list7 #need to store changes in diff list\n"
   ]
  },
  {
   "cell_type": "code",
   "execution_count": 98,
   "id": "c58ac1d6-95f7-400b-85ff-7d6158848309",
   "metadata": {},
   "outputs": [
    {
     "data": {
      "text/plain": [
       "[2, 6, 4, 8, 3, 9]"
      ]
     },
     "execution_count": 98,
     "metadata": {},
     "output_type": "execute_result"
    }
   ],
   "source": [
    "list6"
   ]
  },
  {
   "cell_type": "code",
   "execution_count": 104,
   "id": "cef4b9f2-ed83-4c4f-a718-525ee158429a",
   "metadata": {},
   "outputs": [
    {
     "data": {
      "text/plain": [
       "[2, 4, 7, 8]"
      ]
     },
     "execution_count": 104,
     "metadata": {},
     "output_type": "execute_result"
    }
   ],
   "source": [
    "list4=[2,4,7,8]\n",
    "list4"
   ]
  },
  {
   "cell_type": "code",
   "execution_count": 106,
   "id": "92b93d2d-e9a8-43b5-b55e-417363f38ea6",
   "metadata": {},
   "outputs": [
    {
     "data": {
      "text/plain": [
       "[2, 3, 4, 6, 7, 2, 4, 7, 8]"
      ]
     },
     "execution_count": 106,
     "metadata": {},
     "output_type": "execute_result"
    }
   ],
   "source": [
    "list2.extend(list4) #extend the list\n",
    "list2\n"
   ]
  },
  {
   "cell_type": "code",
   "execution_count": null,
   "id": "b7c2a6c1-61f3-4089-a40c-352ea6435a8e",
   "metadata": {},
   "outputs": [],
   "source": [
    "# for when element is over the loop should be comming out\n",
    "# while when condition is over the loop should come out"
   ]
  },
  {
   "cell_type": "code",
   "execution_count": 108,
   "id": "35352cc4-9cf3-4109-a01c-a7b32f8131e2",
   "metadata": {},
   "outputs": [
    {
     "name": "stdout",
     "output_type": "stream",
     "text": [
      "4\n",
      "36\n",
      "16\n",
      "64\n",
      "9\n",
      "81\n"
     ]
    }
   ],
   "source": [
    "for i in list6: #squareing a elements\n",
    "    print(i*i)"
   ]
  },
  {
   "cell_type": "code",
   "execution_count": 110,
   "id": "a3063de1-2663-45d5-bb59-4a2a4fcc1e90",
   "metadata": {},
   "outputs": [
    {
     "data": {
      "text/plain": [
       "[4, 36, 16, 64, 9, 81]"
      ]
     },
     "execution_count": 110,
     "metadata": {},
     "output_type": "execute_result"
    }
   ],
   "source": [
    "listnew=[i*i for i in list6]\n",
    "listnew"
   ]
  },
  {
   "cell_type": "code",
   "execution_count": 3,
   "id": "ba1568ad-0c1d-47f0-8490-048b78711297",
   "metadata": {},
   "outputs": [
    {
     "name": "stdout",
     "output_type": "stream",
     "text": [
      "[36, 49, 64]\n"
     ]
    }
   ],
   "source": [
    "list6=[1,2,3,4,5,6,7,8]\n",
    "s=[]\n",
    "for i in list6:\n",
    "    if i>5:\n",
    "        s.append(i*i)\n",
    "print(s)\n"
   ]
  },
  {
   "cell_type": "code",
   "execution_count": 5,
   "id": "89c76b46-05cc-4585-a35f-0754516507ae",
   "metadata": {},
   "outputs": [
    {
     "data": {
      "text/plain": [
       "[36, 49, 64]"
      ]
     },
     "execution_count": 5,
     "metadata": {},
     "output_type": "execute_result"
    }
   ],
   "source": [
    "#newlist=input for if\n",
    "slc=[i*i for i in list6 if i>5]\n",
    "slc"
   ]
  },
  {
   "cell_type": "code",
   "execution_count": 1,
   "id": "e78b90e7-c418-4065-8021-08706b5611fa",
   "metadata": {},
   "outputs": [],
   "source": [
    "marks=[50,60,70,80,90,100]\n",
    "grades=[]\n",
    "\n",
    "for i in marks:\n",
    "    if i>90:\n",
    "        grades.append(\"A\")\n",
    "    else:\n",
    "        grades.append(\"B\")"
   ]
  },
  {
   "cell_type": "code",
   "execution_count": 4,
   "id": "2ca95300-bd82-48fc-97ef-2cdf7abc0f5e",
   "metadata": {},
   "outputs": [
    {
     "data": {
      "text/plain": [
       "['B', 'B', 'B', 'B', 'B', 'A']"
      ]
     },
     "execution_count": 4,
     "metadata": {},
     "output_type": "execute_result"
    }
   ],
   "source": [
    "grades"
   ]
  },
  {
   "cell_type": "code",
   "execution_count": 8,
   "id": "16e6b229-195c-408a-8a9a-cef4d342cefd",
   "metadata": {},
   "outputs": [
    {
     "data": {
      "text/plain": [
       "['B', 'B', 'B', 'B', 'B', 'A']"
      ]
     },
     "execution_count": 8,
     "metadata": {},
     "output_type": "execute_result"
    }
   ],
   "source": [
    "gradeslc=[\"A\" if i>90 else \"B\" for i in marks]\n",
    "gradeslc"
   ]
  },
  {
   "cell_type": "markdown",
   "id": "633ed416-8979-4467-9f89-f7d0ff43da91",
   "metadata": {},
   "source": [
    "#if the salary is more than 50000 reduce 10% tax else reduce 5% tax and save the remaing salary in new list"
   ]
  },
  {
   "cell_type": "code",
   "execution_count": 21,
   "id": "79da961e-5d15-426d-9ac3-3312fb51df13",
   "metadata": {},
   "outputs": [
    {
     "data": {
      "text/plain": [
       "[1425.0, 63000.0, 9500.0, 42750.0, 1140.0]"
      ]
     },
     "execution_count": 21,
     "metadata": {},
     "output_type": "execute_result"
    }
   ],
   "source": [
    "sal=[1500,70000,10000,45000,1200]\n",
    "final=[]\n",
    "for i in sal:\n",
    "    if i>50000:\n",
    "        tax=i*0.1\n",
    "        total=i-tax\n",
    "        final.append(total)\n",
    "    else:\n",
    "        tax=i*0.05\n",
    "        total=i-tax\n",
    "        final.append(total)\n",
    "final\n",
    "    \n",
    "        "
   ]
  },
  {
   "cell_type": "code",
   "execution_count": 23,
   "id": "491cd790-91c6-4891-8727-2f5cdbc0031f",
   "metadata": {},
   "outputs": [
    {
     "data": {
      "text/plain": [
       "[1425.0, 63000.0, 9500.0, 42750.0, 1140.0]"
      ]
     },
     "execution_count": 23,
     "metadata": {},
     "output_type": "execute_result"
    }
   ],
   "source": [
    "salslc=[i-i*0.1 if i>50000 else i-i*0.05 for i in sal] #comprention function\n",
    "salslc"
   ]
  },
  {
   "cell_type": "code",
   "execution_count": 27,
   "id": "d1b855bb-6c59-4334-9a23-b1d97430761f",
   "metadata": {},
   "outputs": [
    {
     "name": "stdout",
     "output_type": "stream",
     "text": [
      "5\n",
      "5\n",
      "14\n",
      "13\n",
      "9\n"
     ]
    }
   ],
   "source": [
    "list2=[3,4,5,6,7] #zip function\n",
    "list3=[2,1,9,7,2]\n",
    "for i,j in zip(list2,list3):\n",
    "    print(i+j)"
   ]
  },
  {
   "cell_type": "markdown",
   "id": "d23b23a6-2036-4403-98cd-6f0d9d56b1a4",
   "metadata": {},
   "source": [
    "Tuple"
   ]
  },
  {
   "cell_type": "code",
   "execution_count": 1,
   "id": "9fd0f9dd-0a2f-4797-abc9-f30c0062eaea",
   "metadata": {},
   "outputs": [
    {
     "data": {
      "text/plain": [
       "[23, 45, 'spandu', 49, 99]"
      ]
     },
     "execution_count": 1,
     "metadata": {},
     "output_type": "execute_result"
    }
   ],
   "source": [
    "tup1=[23,45,\"spandu\",49,99]\n",
    "tup1"
   ]
  },
  {
   "cell_type": "code",
   "execution_count": 3,
   "id": "bc7b623b-735f-4f55-8856-fbb85732b654",
   "metadata": {},
   "outputs": [
    {
     "name": "stdout",
     "output_type": "stream",
     "text": [
      "87.12\n",
      "23\n",
      "4\n"
     ]
    }
   ],
   "source": [
    "tup2=[23,67,87.12,43]\n",
    "print(max(tup2))\n",
    "print(min(tup2))\n",
    "print(len(tup2"
   ]
  },
  {
   "cell_type": "code",
   "execution_count": 5,
   "id": "303c74ff-5ee0-4c85-99ff-4481214436d8",
   "metadata": {},
   "outputs": [
    {
     "data": {
      "text/plain": [
       "[23, 43, 67, 87.12]"
      ]
     },
     "execution_count": 5,
     "metadata": {},
     "output_type": "execute_result"
    }
   ],
   "source": [
    "tup3=sorted(tup2)\n",
    "tup3"
   ]
  },
  {
   "cell_type": "markdown",
   "id": "1af09999-80df-4f5a-899e-61cedf99a2f5",
   "metadata": {},
   "source": [
    "dictionary"
   ]
  },
  {
   "cell_type": "code",
   "execution_count": 9,
   "id": "81b863fc-5387-486e-9ccc-78bcb43db694",
   "metadata": {},
   "outputs": [
    {
     "data": {
      "text/plain": [
       "{1: 'john', 2: 'Ram', 3: 'sneha'}"
      ]
     },
     "execution_count": 9,
     "metadata": {},
     "output_type": "execute_result"
    }
   ],
   "source": [
    "dict1={1:\"john\",2:\"Ram\",3:\"sneha\"}\n",
    "dict1"
   ]
  },
  {
   "cell_type": "code",
   "execution_count": 25,
   "id": "b5779926-fcfd-4eef-b296-a8c7973bd1de",
   "metadata": {},
   "outputs": [
    {
     "name": "stdout",
     "output_type": "stream",
     "text": [
      "['eating', 'reading', 'dancing']\n"
     ]
    }
   ],
   "source": [
    "dict2={'namme':\"spandana\",'hobbies':['eating','reading','dancing']}\n",
    "print(dict2['hobbies'])"
   ]
  },
  {
   "cell_type": "code",
   "execution_count": 27,
   "id": "6502f06e-f98b-475d-9946-dbe645fea530",
   "metadata": {},
   "outputs": [
    {
     "data": {
      "text/plain": [
       "'reading'"
      ]
     },
     "execution_count": 27,
     "metadata": {},
     "output_type": "execute_result"
    }
   ],
   "source": [
    "dict2['hobbies'][1]"
   ]
  },
  {
   "cell_type": "code",
   "execution_count": 29,
   "id": "deb300b4-a05b-45a2-8b50-48bff13addd6",
   "metadata": {},
   "outputs": [
    {
     "data": {
      "text/plain": [
       "{12, 13, 22, 56, 87}"
      ]
     },
     "execution_count": 29,
     "metadata": {},
     "output_type": "execute_result"
    }
   ],
   "source": [
    "#set ,no duplicate values\n",
    "s1={12,13,56,87,12,22}\n",
    "s1"
   ]
  },
  {
   "cell_type": "code",
   "execution_count": 3,
   "id": "5dda50ff-56af-4bff-9b59-e57742d13673",
   "metadata": {},
   "outputs": [],
   "source": [
    "import numpy as np"
   ]
  },
  {
   "cell_type": "code",
   "execution_count": 5,
   "id": "5e5bd6ea-0862-4f5d-9120-594406efffd9",
   "metadata": {},
   "outputs": [
    {
     "data": {
      "text/plain": [
       "array([ 50,  78,  69, 174])"
      ]
     },
     "execution_count": 5,
     "metadata": {},
     "output_type": "execute_result"
    }
   ],
   "source": [
    "#Array\n",
    "ar1=np.array([21,31,26,76])\n",
    "ar2=np.array([29,47,43,98])\n",
    "ar1+ar2"
   ]
  },
  {
   "cell_type": "code",
   "execution_count": 7,
   "id": "91a442fd-b4c1-41d5-bb95-2dab4f4e672d",
   "metadata": {},
   "outputs": [
    {
     "name": "stdout",
     "output_type": "stream",
     "text": [
      "[[1. 1. 1.]\n",
      " [1. 1. 1.]]\n"
     ]
    }
   ],
   "source": [
    "ar3=np.ones((2,3))\n",
    "print(ar3)"
   ]
  },
  {
   "cell_type": "code",
   "execution_count": 9,
   "id": "3ef1d18c-f0a7-4aa2-9cf1-c1de89b6fb84",
   "metadata": {},
   "outputs": [
    {
     "name": "stdout",
     "output_type": "stream",
     "text": [
      "[[1. 1. 1. 1. 1.]\n",
      " [1. 1. 1. 1. 1.]\n",
      " [1. 1. 1. 1. 1.]\n",
      " [1. 1. 1. 1. 1.]]\n"
     ]
    }
   ],
   "source": [
    "ar4=np.ones((4,5))\n",
    "print(ar4)"
   ]
  },
  {
   "cell_type": "code",
   "execution_count": 15,
   "id": "ef919b55-cb2b-4fe0-80d2-b73c2c8b30d3",
   "metadata": {},
   "outputs": [
    {
     "name": "stdout",
     "output_type": "stream",
     "text": [
      "[[1. 0. 0. 0.]\n",
      " [0. 1. 0. 0.]\n",
      " [0. 0. 1. 0.]\n",
      " [0. 0. 0. 1.]]\n"
     ]
    }
   ],
   "source": [
    "ar5=np.eye((4))\n",
    "print(ar5)"
   ]
  },
  {
   "cell_type": "code",
   "execution_count": 17,
   "id": "5331b36a-0162-4988-a3f0-fc1b2ab12994",
   "metadata": {},
   "outputs": [
    {
     "name": "stdout",
     "output_type": "stream",
     "text": [
      "[0 1 2 3 4 5]\n"
     ]
    }
   ],
   "source": [
    "ar6=np.arange(5)\n",
    "print(ar6)"
   ]
  },
  {
   "cell_type": "code",
   "execution_count": 19,
   "id": "3b6bf90c-e06a-4488-82f6-a360208831ae",
   "metadata": {},
   "outputs": [
    {
     "name": "stdout",
     "output_type": "stream",
     "text": [
      "[ 5  6  7  8  9 10 11 12 13 14 15 16 17 18 19 20 21 22 23 24 25 26 27 28\n",
      " 29 30 31 32 33 34 35 36 37 38 39 40 41 42 43 44 45 46 47 48 49]\n"
     ]
    }
   ],
   "source": [
    "ar6=np.arange(5,50)\n",
    "print(ar6)"
   ]
  },
  {
   "cell_type": "code",
   "execution_count": 25,
   "id": "2494d34d-b11c-4ae9-82ad-bd96c3317125",
   "metadata": {},
   "outputs": [
    {
     "name": "stdout",
     "output_type": "stream",
     "text": [
      "[   8   16   24   32   40   48   56   64   72   80   88   96  104  112\n",
      "  120  128  136  144  152  160  168  176  184  192  200  208  216  224\n",
      "  232  240  248  256  264  272  280  288  296  304  312  320  328  336\n",
      "  344  352  360  368  376  384  392  400  408  416  424  432  440  448\n",
      "  456  464  472  480  488  496  504  512  520  528  536  544  552  560\n",
      "  568  576  584  592  600  608  616  624  632  640  648  656  664  672\n",
      "  680  688  696  704  712  720  728  736  744  752  760  768  776  784\n",
      "  792  800  808  816  824  832  840  848  856  864  872  880  888  896\n",
      "  904  912  920  928  936  944  952  960  968  976  984  992 1000]\n"
     ]
    }
   ],
   "source": [
    "ar6=np.arange(8,1001,8) #start, stop, step\n",
    "print(ar6)"
   ]
  },
  {
   "cell_type": "code",
   "execution_count": 27,
   "id": "0f42aa8e-be60-41c7-b66f-f74097486875",
   "metadata": {},
   "outputs": [
    {
     "data": {
      "text/plain": [
       "2"
      ]
     },
     "execution_count": 27,
     "metadata": {},
     "output_type": "execute_result"
    }
   ],
   "source": [
    "np.ndim(ar3)"
   ]
  },
  {
   "cell_type": "code",
   "execution_count": 29,
   "id": "9de67b17-d158-4d67-b3e3-33cb16b158f7",
   "metadata": {},
   "outputs": [
    {
     "data": {
      "text/plain": [
       "(4, 4)"
      ]
     },
     "execution_count": 29,
     "metadata": {},
     "output_type": "execute_result"
    }
   ],
   "source": [
    "np.shape(ar4)"
   ]
  },
  {
   "cell_type": "code",
   "execution_count": 31,
   "id": "071f50b6-6164-4c9b-9698-1dc6cf94c63b",
   "metadata": {},
   "outputs": [
    {
     "name": "stdout",
     "output_type": "stream",
     "text": [
      "[[3 4 5]\n",
      " [1 2 3]]\n"
     ]
    }
   ],
   "source": [
    "#2D\n",
    "ar8=np.array([[3,4,5],[1,2,3]])\n",
    "print(ar8)"
   ]
  },
  {
   "cell_type": "code",
   "execution_count": 37,
   "id": "cbdcfcfb-e5bc-47a9-a70f-4d9e28ee81d8",
   "metadata": {},
   "outputs": [
    {
     "name": "stdout",
     "output_type": "stream",
     "text": [
      "[[[3 4 5]\n",
      "  [1 2 3]]\n",
      "\n",
      " [[7 8 9]\n",
      "  [4 5 6]]]\n"
     ]
    }
   ],
   "source": [
    "ar9=np.array([[[3,4,5],[1,2,3]],[[7,8,9],[4,5,6]]])\n",
    "print(ar9)"
   ]
  },
  {
   "cell_type": "code",
   "execution_count": null,
   "id": "7d6c8d8a-43bd-4d17-99ae-87b660284374",
   "metadata": {},
   "outputs": [],
   "source": [
    "statistics"
   ]
  },
  {
   "cell_type": "code",
   "execution_count": 39,
   "id": "060ee153-7ffd-48b3-a432-e3e68bc21bd1",
   "metadata": {},
   "outputs": [],
   "source": [
    "n=np.array([89,43,67,87,24])"
   ]
  },
  {
   "cell_type": "code",
   "execution_count": 43,
   "id": "1fc22583-ce66-431f-ac7c-92197d30b88f",
   "metadata": {},
   "outputs": [
    {
     "name": "stdout",
     "output_type": "stream",
     "text": [
      "62.0\n"
     ]
    }
   ],
   "source": [
    "Avg=np.mean(n)\n",
    "print(Avg)"
   ]
  },
  {
   "cell_type": "code",
   "execution_count": 45,
   "id": "fb51fb9b-9c2b-4cce-b2ba-68f8ad1f2600",
   "metadata": {},
   "outputs": [
    {
     "name": "stdout",
     "output_type": "stream",
     "text": [
      "67.0\n"
     ]
    }
   ],
   "source": [
    "med=np.median(n)\n",
    "print(med)"
   ]
  },
  {
   "cell_type": "code",
   "execution_count": 47,
   "id": "7251ac06-2bf8-46ee-ad50-0a0c2911b611",
   "metadata": {},
   "outputs": [
    {
     "name": "stdout",
     "output_type": "stream",
     "text": [
      "25.234896472940004\n"
     ]
    }
   ],
   "source": [
    "sd=np.std(n)\n",
    "print(sd)"
   ]
  },
  {
   "cell_type": "code",
   "execution_count": null,
   "id": "5e7415cc-4e0e-492a-af53-feabe2d5a9a1",
   "metadata": {},
   "outputs": [],
   "source": []
  }
 ],
 "metadata": {
  "kernelspec": {
   "display_name": "Python 3 (ipykernel)",
   "language": "python",
   "name": "python3"
  },
  "language_info": {
   "codemirror_mode": {
    "name": "ipython",
    "version": 3
   },
   "file_extension": ".py",
   "mimetype": "text/x-python",
   "name": "python",
   "nbconvert_exporter": "python",
   "pygments_lexer": "ipython3",
   "version": "3.11.7"
  }
 },
 "nbformat": 4,
 "nbformat_minor": 5
}
